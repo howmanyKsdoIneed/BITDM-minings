{
 "cells": [
  {
   "cell_type": "markdown",
   "id": "01b2192a",
   "metadata": {},
   "source": [
    "# 互评作业1：探索性分析与预处理（2/2）\n",
    "\n",
    "运行此notebook需要matplotlib库。\n",
    "\n",
    "本次互评作业使用的两个数据集是：1) Wine Reviews；2）Oakland Crime Statistics 2011-2016。下面展示对于第二个数据集Oakland Crime Statistics 2011-2016的预处理过程，第一个数据集Wine Reviews的预处理在另一个文件之中。\n",
    "\n",
    "在开始处理之前，先导入在前一个文件中已经定义过的各种处理方法。这些方法在文件1中都有用到，此处不过多做介绍。"
   ]
  },
  {
   "cell_type": "code",
   "execution_count": 1,
   "id": "11dca9a1",
   "metadata": {},
   "outputs": [],
   "source": [
    "import json\n",
    "import csv\n",
    "import matplotlib.pyplot as plt\n",
    "from collections import defaultdict\n",
    "\n",
    "# 五数概括和缺失值计数\n",
    "def fivenum_summary(vals):\n",
    "    '''输入一组数据，依次返回这组数据的最小值、下四分位点、中位数、上四分位点、最大值，即从小到大排序的五个概括数。\n",
    "    返回的数据都是取自输入的数据，不会进行数学运算。'''\n",
    "    srted = sorted(vals)\n",
    "    count = len(vals)\n",
    "    vmax = srted[-1]\n",
    "    vmin = srted[0]\n",
    "    vmid = srted[count // 2]\n",
    "    vquadlow = srted[count // 4]\n",
    "    vquadhigh = srted[count*3 // 4]\n",
    "    return (vmin, vquadlow, vmid, vquadhigh, vmax)\n",
    "\n",
    "def missing_count(data, columnNo):\n",
    "    '''输入数据以及所统计的列，返回这一列缺失多少值。'''\n",
    "    cnt = 0\n",
    "    for d in data:\n",
    "        if d[columnNo] == '':\n",
    "            cnt += 1\n",
    "    return cnt\n",
    "\n",
    "# 对标称值计数以及画条形图\n",
    "def count_occurence(data,column,ignore_empty=True):\n",
    "    '''统计数据某个特定列中所有元素的出现次数，返回一个dict-like\n",
    "    如果置ignore-empty为True，则返回的字典中不包含空值的计数'''\n",
    "    count = defaultdict(int)\n",
    "    for row in data:\n",
    "        if ignore_empty and row[column]=='':\n",
    "            continue\n",
    "        count[row[column]]+=1\n",
    "    return count\n",
    "def cutoff(datadict,ratio,total_amt=None,return_ratio=True):\n",
    "    '''返回一个经过截断的字典，只保留占总数大于等于一定比例的条目。\n",
    "    参数return_tario表示返回字典的值使用绝对值（False）还是比例（True）'''\n",
    "    if total_amt == None: # 如果没有给总体数量，就用输入数据之和代替\n",
    "        total_amt = sum(datadict.values())\n",
    "    ret = {}\n",
    "    for key in datadict:\n",
    "        val = datadict[key]\n",
    "        percent = val/total_amt\n",
    "        if percent>=ratio:\n",
    "            ret[key]=percent*100 if return_ratio else val\n",
    "    return ret\n",
    "def plot_barchart(title,Xlabel,Ylabel,data,do_sort=False,bar_width=0.4,figsize=None):\n",
    "    plt.figure(title,figsize=figsize)\n",
    "    plt.title(title)\n",
    "    plt.xlabel(Xlabel)\n",
    "    plt.ylabel(Ylabel)\n",
    "    count = len(data) # 有几个bars要画\n",
    "    keys = list(data.keys())\n",
    "    if do_sort:\n",
    "        keys.sort(key=lambda k:data[k],reverse=True)\n",
    "    for i,name in enumerate(keys):\n",
    "        plt.bar(\n",
    "            i,# 横向位置\n",
    "            data[name], #数据\n",
    "            width = bar_width, # 宽度\n",
    "            # 边缘\n",
    "            ec='k',lw=1\n",
    "        )\n",
    "    plt.xticks([i for i in range(count)],[(key if key !='' else '(missing)') for key in keys])\n",
    "    plt.show()"
   ]
  },
  {
   "cell_type": "markdown",
   "id": "2e0709b1",
   "metadata": {},
   "source": [
    "## 数据集2：Oakland Crime Stats '11-'16\n",
    "\n",
    "[Oakland Crime Statistics 2011 to 2016](https://www.kaggle.com/cityofoakland/oakland-crime-statistics-2011-to-2016)是加州奥克兰市政府维护的关于警察局出警事件的数据集，每日一更，包含记录的创建日期、编号、类型、地址、所在区域、事件类型等信息。\n",
    "\n",
    "数据集中包含6个csv文件，每年一个。每一个csv文件均附有一个存储元数据的json文件。我们读取每一个csv文件，并查看有哪些列："
   ]
  },
  {
   "cell_type": "code",
   "execution_count": 2,
   "id": "46c1673e",
   "metadata": {},
   "outputs": [
    {
     "name": "stdout",
     "output_type": "stream",
     "text": [
      "2011:['Agency', 'Create Time', 'Location', 'Area Id', 'Beat', 'Priority', 'Incident Type Id', 'Incident Type Description', 'Event Number', 'Closed Time']\n",
      "2012:['Agency', 'Create Time', 'Area Id', 'Beat', 'Priority', 'Incident Type Id', 'Incident Type Description', 'Event Number', 'Closed Time', 'Location 1', 'Zip Codes']\n",
      "2013:['Agency', 'Create Time', 'Location ', 'Area Id', 'Beat', 'Priority', 'Incident Type Id', 'Incident Type Description', 'Event Number', 'Closed Time']\n",
      "2014:['Agency', 'Create Time', 'Area Id', 'Beat', 'Priority', 'Incident Type Id', 'Incident Type Description', 'Event Number', 'Closed Time', 'Location 1', 'Zip Codes']\n",
      "2015:['Agency', 'Create Time', 'Location', 'Area Id', 'Beat', 'Priority', 'Incident Type Id', 'Incident Type Description', 'Event Number', 'Closed Time']\n",
      "2016:['Agency', 'Create Time', 'Location', 'Area Id', 'Beat', 'Priority', 'Incident Type Id', 'Incident Type Description', 'Event Number', 'Closed Time']\n"
     ]
    }
   ],
   "source": [
    "def read_csv(filename):\n",
    "    with open(filename) as f:\n",
    "        csv_content = csv.reader(f)\n",
    "        columns = next(csv_content)\n",
    "        rows = [row for row in csv_content]\n",
    "    return columns, rows\n",
    "\n",
    "cols={}\n",
    "rows={}\n",
    "for year in range(2011,2017):\n",
    "    cols[year], rows[year] = read_csv(f'Oakland Crime Statistics/records-for-{year}.csv')\n",
    "    print(year,end=':')\n",
    "    print(cols[year])"
   ]
  },
  {
   "cell_type": "markdown",
   "id": "678cccfa",
   "metadata": {},
   "source": [
    "可以看出12年和14年的记录格式与其他年份不完全相同。我们对其进行一点处理，从而合并成统一的文件。\n",
    "\n",
    "观察这些列，12年和14年仅仅是将地址放在了最后，并附加了邮编信息。由于邮编信息只有这两年的数据有，所以我们忽略之。而地址信息，实际上这两年和其他年份的存储方式也是不同的："
   ]
  },
  {
   "cell_type": "code",
   "execution_count": 3,
   "id": "f55b41f1",
   "metadata": {},
   "outputs": [
    {
     "name": "stdout",
     "output_type": "stream",
     "text": [
      "{'human_address': '{\"address\": \"OLIVE ST\", \"city\": \"\", \"state\": \"\", \"zip\": \"\"}'}\n",
      "{'human_address': '{\"address\": \"LINDEN ST\", \"city\": \"\", \"state\": \"\", \"zip\": \"\"}'}\n",
      " ST&SAN PABLO AV\n"
     ]
    }
   ],
   "source": [
    "print(rows[2012][0][9]) # 12年第一条记录的地址\n",
    "print(rows[2014][0][9]) # 14年第一条记录的地址\n",
    "print(rows[2011][0][2]) # 11年第一条记录的地址"
   ]
  },
  {
   "cell_type": "markdown",
   "id": "1aefaa5b",
   "metadata": {},
   "source": [
    "可以看出，12和14年的`Location 1`字段其实是一段类似JSON的文本，其中`human_address.address`项对应着其他年份存储的地址信息。我们使用这一部分信息。\n",
    "\n",
    "接下来，我们对数据进行合并。"
   ]
  },
  {
   "cell_type": "code",
   "execution_count": 4,
   "id": "029d04ff",
   "metadata": {
    "scrolled": true
   },
   "outputs": [
    {
     "name": "stdout",
     "output_type": "stream",
     "text": [
      "总体数据的各列:['Year', 'Agency', 'Create Time', 'Location', 'Area Id', 'Beat', 'Priority', 'Incident Type Id', 'Incident Type Description', 'Event Number', 'Closed Time']\n",
      "记录条数: 1046388\n"
     ]
    }
   ],
   "source": [
    "def addr1toaddr(s):\n",
    "    # 外层部分不是json，需要先做一些替换工作\n",
    "    # 实际上可以直接使用eval()获取值，但考虑安全因素不采用\n",
    "    if s=='': return ''\n",
    "    s2 = s.replace('\"',\"\\\\'\").replace(\"'\",'\"')\n",
    "    return json.loads(json.loads(s2)['human_address'])['address']\n",
    "\n",
    "columns = ['Year']+cols[2011]\n",
    "print('总体数据的各列:',end='')\n",
    "print(columns)\n",
    "\n",
    "records = []\n",
    "record_count = 0\n",
    "for year in [2011,2013,2015,2016]:\n",
    "    for record in rows[year]:\n",
    "        records.append([year]+record)\n",
    "        assert len(records[-1]) == 11\n",
    "        record_count+=1\n",
    "for year in [2012,2014]:\n",
    "    for record in rows[year]:\n",
    "        addr_json = record[9]\n",
    "        \n",
    "        records.append(\n",
    "            [year]+\n",
    "            record[0:2]+\n",
    "            [addr1toaddr(record[9])]+\n",
    "            record[2:9]\n",
    "        )\n",
    "        assert len(records[-1])==11\n",
    "        record_count += 1\n",
    "records.sort(key=lambda rec:rec[0])\n",
    "print(f\"记录条数: {record_count}\")"
   ]
  },
  {
   "cell_type": "markdown",
   "id": "243aa14f",
   "metadata": {},
   "source": [
    "现在总体数据是按年份排序的，除此之外的顺序仍按照原数据的顺序。\n",
    "\n",
    "## 数值型数据的分析和补全\n",
    "\n",
    "### 数据摘要\n",
    "\n",
    "该数据集中没有纯数值的数据，除两个时间点数据Create Time和Closed Time外，其余都是标称型或者字符串。但是，我们仍然可以计算出事件的持续时间（Closed-Create）。下面是对持续时间的分析。"
   ]
  },
  {
   "cell_type": "code",
   "execution_count": 5,
   "id": "077f4588",
   "metadata": {},
   "outputs": [
    {
     "name": "stdout",
     "output_type": "stream",
     "text": [
      "时间持续时间（小时数）的五数概括: (0.0, 0.38333333333333336, 1.106111111111111, 2.618611111111111, 23.99972222222222)\n"
     ]
    },
    {
     "data": {
      "image/png": "[encoded data removed]",
      "text/plain": [
       "<Figure size 432x288 with 1 Axes>"
      ]
     },
     "metadata": {
      "needs_background": "light"
     },
     "output_type": "display_data"
    }
   ],
   "source": [
    "import datetime\n",
    "event_hours = []\n",
    "for record in records:\n",
    "    if record[2]=='' or record[-1]=='':\n",
    "        continue\n",
    "    begin = datetime.datetime.fromisoformat(record[2])\n",
    "    end = datetime.datetime.fromisoformat(record[-1])\n",
    "    event_hours.append((end-begin).seconds / 3600)\n",
    "print(\"时间持续时间（小时数）的五数概括: \",end='')\n",
    "print(fivenum_summary(event_hours))\n",
    "plt.figure()\n",
    "plt.title(\"Boxplot on event time(in hours)\")\n",
    "plt.boxplot(event_hours)\n",
    "plt.show()"
   ]
  },
  {
   "cell_type": "markdown",
   "id": "ee4b175a",
   "metadata": {},
   "source": [
    "如图所示，绝大多数事件都能在5小时内close掉，但是存在大量离群点："
   ]
  },
  {
   "cell_type": "code",
   "execution_count": 6,
   "id": "2f8e6eec",
   "metadata": {},
   "outputs": [
    {
     "data": {
      "text/plain": [
       "95997"
      ]
     },
     "execution_count": 6,
     "metadata": {},
     "output_type": "execute_result"
    }
   ],
   "source": [
    "fivenum = fivenum_summary(event_hours)\n",
    "iqr = fivenum[3]-fivenum[1]\n",
    "q1 = fivenum[1]\n",
    "q3 = fivenum[3]\n",
    "iqr = q3-q1\n",
    "outliers = [i for i in event_hours if ((i<q1-1.5*iqr) or (i>q3+1.5*iqr))]\n",
    "len(outliers) # 离群点个数"
   ]
  },
  {
   "cell_type": "markdown",
   "id": "e693154a",
   "metadata": {},
   "source": [
    "9.6k个离群点约占整体的9.2%，还是很多的。我们接下来统计起止时间至少缺一个的数据："
   ]
  },
  {
   "cell_type": "code",
   "execution_count": 7,
   "id": "f7b6343f",
   "metadata": {},
   "outputs": [
    {
     "data": {
      "text/plain": [
       "29"
      ]
     },
     "execution_count": 7,
     "metadata": {},
     "output_type": "execute_result"
    }
   ],
   "source": [
    "time_missing = [record for record in records if '' in (record[2],record[-1])]\n",
    "len(time_missing)"
   ]
  },
  {
   "cell_type": "markdown",
   "id": "e90fcfee",
   "metadata": {},
   "source": [
    "### 缺失值分析\n",
    "\n",
    "接下来我们分析这些缺失值。我们将这些残缺的起止时间打印出来："
   ]
  },
  {
   "cell_type": "code",
   "execution_count": 8,
   "id": "b1e9e95c",
   "metadata": {},
   "outputs": [
    {
     "name": "stdout",
     "output_type": "stream",
     "text": [
      "2011-11-05T23:50:42.000  -                         \n",
      "2011-11-06T00:51:23.000  -                         \n",
      "2011-11-06T01:23:47.000  -                         \n",
      "2011-11-06T01:34:32.000  -                         \n",
      "2011-11-06T01:36:53.000  -                         \n",
      "2011-11-06T01:56:45.000  -                         \n",
      "                         -                         \n",
      "2012-11-03T20:24:24.000  -                         \n",
      "2012-11-03T21:35:29.000  -                         \n",
      "2012-11-03T22:09:33.000  -                         \n",
      "2012-11-03T22:16:19.000  -                         \n",
      "2012-11-03T22:47:53.000  -                         \n",
      "2012-11-03T22:49:09.000  -                         \n",
      "2012-11-03T23:22:39.000  -                         \n",
      "2012-11-03T23:29:48.000  -                         \n",
      "2012-11-04T00:18:30.000  -                         \n",
      "2012-11-04T00:25:17.000  -                         \n",
      "2012-11-04T00:25:18.000  -                         \n",
      "2012-11-04T00:31:03.000  -                         \n",
      "2012-11-04T00:32:53.000  -                         \n",
      "2012-11-04T00:34:16.000  -                         \n",
      "2012-11-04T00:43:21.000  -                         \n",
      "2012-11-04T00:45:13.000  -                         \n",
      "2012-11-04T01:22:28.000  -                         \n",
      "2012-11-04T01:29:51.000  -                         \n",
      "                         -                         \n",
      "2013-08-31T03:21:24.000  -                         \n",
      "                         -                         \n",
      "                         -                         \n"
     ]
    }
   ],
   "source": [
    "for record in time_missing:\n",
    "    print(f'{record[2]:24} - {record[-1]:24}')"
   ]
  },
  {
   "cell_type": "markdown",
   "id": "1b0c8507",
   "metadata": {},
   "source": [
    "发现除了起止时间皆无的数据，其余数据都集中在几个特定时段：11年11月5日23:50至次日02:00、12年11月3日20:24至次日01:30，以及13年8月31日03:21:24。\n",
    "\n",
    "起止时间皆无的数据只能丢弃。而仅有开始时间没有关闭时间的事件，可以丢弃或进行数据补全。之前持续时间的统计中已经丢弃了缺失信息的数据，这部分数据占比很小，对于其分布基本上没有影响。这里使用持续时间的平均值做数据补全，并展示补全后的数据。"
   ]
  },
  {
   "cell_type": "code",
   "execution_count": 9,
   "id": "a78b2182",
   "metadata": {},
   "outputs": [
    {
     "name": "stdout",
     "output_type": "stream",
     "text": [
      "2011-11-05T23:50:42.000  - 2011-11-06T02:06:15.135206\n",
      "2011-11-06T00:51:23.000  - 2011-11-06T03:06:56.135206\n",
      "2011-11-06T01:23:47.000  - 2011-11-06T03:39:20.135206\n",
      "2011-11-06T01:34:32.000  - 2011-11-06T03:50:05.135206\n",
      "2011-11-06T01:36:53.000  - 2011-11-06T03:52:26.135206\n",
      "2011-11-06T01:56:45.000  - 2011-11-06T04:12:18.135206\n",
      "2012-11-03T20:24:24.000  - 2012-11-03T22:39:57.135206\n",
      "2012-11-03T21:35:29.000  - 2012-11-03T23:51:02.135206\n",
      "2012-11-03T22:09:33.000  - 2012-11-04T00:25:06.135206\n",
      "2012-11-03T22:16:19.000  - 2012-11-04T00:31:52.135206\n",
      "2012-11-03T22:47:53.000  - 2012-11-04T01:03:26.135206\n",
      "2012-11-03T22:49:09.000  - 2012-11-04T01:04:42.135206\n",
      "2012-11-03T23:22:39.000  - 2012-11-04T01:38:12.135206\n",
      "2012-11-03T23:29:48.000  - 2012-11-04T01:45:21.135206\n",
      "2012-11-04T00:18:30.000  - 2012-11-04T02:34:03.135206\n",
      "2012-11-04T00:25:17.000  - 2012-11-04T02:40:50.135206\n",
      "2012-11-04T00:25:18.000  - 2012-11-04T02:40:51.135206\n",
      "2012-11-04T00:31:03.000  - 2012-11-04T02:46:36.135206\n",
      "2012-11-04T00:32:53.000  - 2012-11-04T02:48:26.135206\n",
      "2012-11-04T00:34:16.000  - 2012-11-04T02:49:49.135206\n",
      "2012-11-04T00:43:21.000  - 2012-11-04T02:58:54.135206\n",
      "2012-11-04T00:45:13.000  - 2012-11-04T03:00:46.135206\n",
      "2012-11-04T01:22:28.000  - 2012-11-04T03:38:01.135206\n",
      "2012-11-04T01:29:51.000  - 2012-11-04T03:45:24.135206\n",
      "2013-08-31T03:21:24.000  - 2013-08-31T05:36:57.135206\n"
     ]
    }
   ],
   "source": [
    "avg_hrs = sum(event_hours)/len(event_hours)\n",
    "time_filled = []\n",
    "for record in time_missing:\n",
    "    if record[2]=='': continue\n",
    "    begin_dt = datetime.datetime.fromisoformat(record[2])\n",
    "    end_dt = begin_dt + datetime.timedelta(hours=avg_hrs)\n",
    "    time_filled.append((record[2],end_dt.isoformat()))\n",
    "    print(f'{record[2]:24} - {time_filled[-1][1]:24}')"
   ]
  },
  {
   "cell_type": "markdown",
   "id": "44aa9991",
   "metadata": {},
   "source": [
    "## 标称型数据的分析和补全\n",
    "\n",
    "接下来我们对所有标称值的属性做分析，包含下列属性：\n",
    "\n",
    "- `Year`（由于涉及的年份只有5年，因此可以当做标称型）\n",
    "- `Agency`\n",
    "- `Area ID`\n",
    "- `Beat`\n",
    "- `Priority`\n",
    "- `Incident Type Id`和`Incident Type Description`\n",
    "\n",
    "### Agency属性\n",
    "\n",
    "对Agency属性不需要做过多分析，因为该属性只有一个可能的非空值`OP`，含义应该为奥克兰市警察局。"
   ]
  },
  {
   "cell_type": "code",
   "execution_count": 10,
   "id": "5b88041c",
   "metadata": {},
   "outputs": [
    {
     "data": {
      "text/plain": [
       "defaultdict(int, {'OP': 1046384, '': 4})"
      ]
     },
     "execution_count": 10,
     "metadata": {},
     "output_type": "execute_result"
    }
   ],
   "source": [
    "agencies=defaultdict(int)\n",
    "for record in records:\n",
    "    agencies[record[1]]+=1\n",
    "agencies"
   ]
  },
  {
   "cell_type": "markdown",
   "id": "4096fc06",
   "metadata": {},
   "source": [
    "因此，缺失的四条数据也应该补“OP”。此处展示缺失这项属性的数据。"
   ]
  },
  {
   "cell_type": "code",
   "execution_count": 11,
   "id": "7b7d6d14",
   "metadata": {},
   "outputs": [
    {
     "name": "stdout",
     "output_type": "stream",
     "text": [
      "[2011, '', '', '   ', '', '', '', '', '', '', '']\n",
      "[2012, '', '', '', '', '', '', '', '', '', '']\n",
      "[2013, '', '', '      ', '', '', '', '', '', '', '']\n",
      "[2016, '', '', '      ', '', '', '', '', '', '', '']\n"
     ]
    }
   ],
   "source": [
    "for record in records:\n",
    "    if record[1]=='':\n",
    "        print(record)"
   ]
  },
  {
   "cell_type": "markdown",
   "id": "cb241756",
   "metadata": {},
   "source": [
    "不过看上去这些数据都是空记录，应当删去之。这4条记录刚好对应上文起止时间皆无的记录。\n",
    "\n",
    "我们更新整体的数据集，删去这几条空白数据。需要指出，这一操作不会影响上面对数据的分析，因为之前的分析，除了补全部分将其特意忽略外没有涉及到这些数据。"
   ]
  },
  {
   "cell_type": "code",
   "execution_count": 12,
   "id": "42e98140",
   "metadata": {},
   "outputs": [],
   "source": [
    "records_clean=[record for record in records if record[1]!='']\n",
    "records_clean_count = len(records_clean)"
   ]
  },
  {
   "cell_type": "markdown",
   "id": "f579006b",
   "metadata": {},
   "source": [
    "### Year属性\n",
    "\n",
    "这条属性是我们自己设置的属性，没有缺失。我们画出这个属性的条形图："
   ]
  },
  {
   "cell_type": "code",
   "execution_count": 13,
   "id": "f8eb66cc",
   "metadata": {},
   "outputs": [
    {
     "data": {
      "image/png": "[encoded data removed]",
      "text/plain": [
       "<Figure size 432x288 with 1 Axes>"
      ]
     },
     "metadata": {
      "needs_background": "light"
     },
     "output_type": "display_data"
    }
   ],
   "source": [
    "yr_count={}\n",
    "for yr in rows:\n",
    "    # 考虑到上面的清理工作，11、12、13、16这四年的数量应当-1。这里全减了，之后加回来\n",
    "    yr_count[yr]=len(rows[yr])-1\n",
    "yr_count[2014]+=1\n",
    "yr_count[2015]+=1\n",
    "plot_barchart(\"Barchart on column 'Year'\",\"Yr\",\"Count\",yr_count,bar_width=1.0)"
   ]
  },
  {
   "cell_type": "markdown",
   "id": "335e4f4f",
   "metadata": {},
   "source": [
    "16年的记录明显较其他年份少，可能的原因是16年的记录不完整。我们看一下16年最后一条记录的发生时间："
   ]
  },
  {
   "cell_type": "code",
   "execution_count": 14,
   "id": "720b37b0",
   "metadata": {},
   "outputs": [
    {
     "data": {
      "text/plain": [
       "'2016-07-31T23:57:31.000'"
      ]
     },
     "execution_count": 14,
     "metadata": {},
     "output_type": "execute_result"
    }
   ],
   "source": [
    "max([record[2] for record in records_clean if record[0]==2016])"
   ]
  },
  {
   "cell_type": "markdown",
   "id": "f67ce6f7",
   "metadata": {},
   "source": [
    "这就表明16年的数据只记录到7月，8-12月的记录是缺失的。为了检验1-7月的数据是否也有大量缺失，我们检验一下记录的比例："
   ]
  },
  {
   "cell_type": "code",
   "execution_count": 15,
   "id": "03260e73",
   "metadata": {},
   "outputs": [
    {
     "data": {
      "text/plain": [
       "(0.575482524236555, 0.5833333333333334)"
      ]
     },
     "execution_count": 15,
     "metadata": {},
     "output_type": "execute_result"
    }
   ],
   "source": [
    "(yr_count[2016]/yr_count[2015], 7/12)"
   ]
  },
  {
   "cell_type": "markdown",
   "id": "8a60d8c0",
   "metadata": {},
   "source": [
    "考虑了16年仅记录到7月底的因素后，16年的记录密度较15年只有2%左右的差距，考虑到数据自身的波动性，可以认为1-7月的数据应当是不存在大规模的缺失情况的。\n",
    "\n",
    "### Area ID\n",
    "\n",
    "先统计缺失值数量和分布情况。"
   ]
  },
  {
   "cell_type": "code",
   "execution_count": 16,
   "id": "5d26df8e",
   "metadata": {},
   "outputs": [
    {
     "name": "stdout",
     "output_type": "stream",
     "text": [
      "缺失值数量: 182361\n"
     ]
    },
    {
     "data": {
      "image/png": "[encoded data removed]",
      "text/plain": [
       "<Figure size 432x288 with 1 Axes>"
      ]
     },
     "metadata": {
      "needs_background": "light"
     },
     "output_type": "display_data"
    }
   ],
   "source": [
    "areaid_cnt = count_occurence(records_clean,4,False)\n",
    "print(f'缺失值数量: {areaid_cnt[\"\"]}')\n",
    "plot_barchart(\"Barchart on column 'Area ID'\",\"Area\",'%',cutoff(areaid_cnt,.0),do_sort=True)"
   ]
  },
  {
   "cell_type": "markdown",
   "id": "dc5e936f",
   "metadata": {},
   "source": [
    "缺失值非常多，有很多记录很少的区域，同时我们也注意到了可能存在两种不同的值域：或许1、2、3和P1、P2、P3是同一个区域。我们分年份重新进行统计："
   ]
  },
  {
   "cell_type": "code",
   "execution_count": 17,
   "id": "82746f27",
   "metadata": {},
   "outputs": [
    {
     "name": "stdout",
     "output_type": "stream",
     "text": [
      "2011年：\n",
      "缺失值数量: 903\n"
     ]
    },
    {
     "data": {
      "image/png": "[encoded data removed]",
      "text/plain": [
       "<Figure size 432x288 with 1 Axes>"
      ]
     },
     "metadata": {
      "needs_background": "light"
     },
     "output_type": "display_data"
    },
    {
     "name": "stdout",
     "output_type": "stream",
     "text": [
      "2012年：\n",
      "缺失值数量: 1414\n"
     ]
    },
    {
     "data": {
      "image/png": "[encoded data removed]",
      "text/plain": [
       "<Figure size 432x288 with 1 Axes>"
      ]
     },
     "metadata": {
      "needs_background": "light"
     },
     "output_type": "display_data"
    },
    {
     "name": "stdout",
     "output_type": "stream",
     "text": [
      "2013年：\n",
      "缺失值数量: 2257\n"
     ]
    },
    {
     "data": {
      "image/png": "[encoded data removed]",
      "text/plain": [
       "<Figure size 432x288 with 1 Axes>"
      ]
     },
     "metadata": {
      "needs_background": "light"
     },
     "output_type": "display_data"
    },
    {
     "name": "stdout",
     "output_type": "stream",
     "text": [
      "2014年：\n",
      "缺失值数量: 177787\n"
     ]
    },
    {
     "data": {
      "image/png": "[encoded data removed]",
      "text/plain": [
       "<Figure size 432x288 with 1 Axes>"
      ]
     },
     "metadata": {
      "needs_background": "light"
     },
     "output_type": "display_data"
    },
    {
     "name": "stdout",
     "output_type": "stream",
     "text": [
      "2015年：\n",
      "缺失值数量: 0\n"
     ]
    },
    {
     "data": {
      "image/png": "[encoded data removed]",
      "text/plain": [
       "<Figure size 432x288 with 1 Axes>"
      ]
     },
     "metadata": {
      "needs_background": "light"
     },
     "output_type": "display_data"
    },
    {
     "name": "stdout",
     "output_type": "stream",
     "text": [
      "2016年：\n",
      "缺失值数量: 0\n"
     ]
    },
    {
     "data": {
      "image/png": "[encoded data removed]",
      "text/plain": [
       "<Figure size 432x288 with 1 Axes>"
      ]
     },
     "metadata": {
      "needs_background": "light"
     },
     "output_type": "display_data"
    }
   ],
   "source": [
    "for year in range(2011,2017):\n",
    "    print(f\"{year}年：\")\n",
    "    records_filter=[record for record in records_clean if record[0]==year]\n",
    "    areaid_cnt = count_occurence(records_filter,4,False)\n",
    "    print(f'缺失值数量: {areaid_cnt[\"\"]}')\n",
    "    plot_barchart(\"Barchart on column 'Area ID'\",\"Area\",'%',cutoff(areaid_cnt,.001),do_sort=True)"
   ]
  },
  {
   "cell_type": "markdown",
   "id": "8bd6b500",
   "metadata": {},
   "source": [
    "主要的缺失值来自2014年，这一年80%以上的记录都是不含Area ID的。同时我们注意到，每一年的区域ID都不尽相同，数量和名称都不匹配。有几种可能的原因：Area ID表示的行政区划每年都在变动，或在不同的数据集中Area ID本身就含有不同的意义。\n",
    "\n",
    "缺失值处理。15-16两年没有缺失值，而14年缺失值占比较大，因此只考虑11-13三年的缺失值处理。\n",
    "\n",
    "先看2011年。由于Area可以通过地址来确定，虽然我们不能有效利用字符串型的地址字段，但是可以使用Beat（管区）字段，我们先来看一下这些数据中有多少是提供了管区信息的："
   ]
  },
  {
   "cell_type": "code",
   "execution_count": 18,
   "id": "0008802c",
   "metadata": {},
   "outputs": [
    {
     "data": {
      "text/plain": [
       "719"
      ]
     },
     "execution_count": 18,
     "metadata": {},
     "output_type": "execute_result"
    }
   ],
   "source": [
    "records_2011 = list(filter(lambda record:record[0]==2011,records_clean))\n",
    "len([None for record in records_2011 if record[4]=='' and record[5]!=''])"
   ]
  },
  {
   "cell_type": "markdown",
   "id": "0af2f472",
   "metadata": {},
   "source": [
    "于是我们可以用管区来推出Area。我们先统计每个管区应该属于哪一个Area，方法是统计管区和Area同时存在的次数："
   ]
  },
  {
   "cell_type": "code",
   "execution_count": 19,
   "id": "834bc05c",
   "metadata": {},
   "outputs": [
    {
     "name": "stdout",
     "output_type": "stream",
     "text": [
      "06X\t{'1': 5098}\n",
      "07X\t{'1': 4114, '2': 1}\n",
      "10Y\t{'1': 2371}\n",
      "21Y\t{'2': 3425, '1': 2}\n",
      "20X\t{'2': 4260, '1': 7}\n",
      "08X\t{'1': 6875, '2': 1, '3': 1}\n",
      "33X\t{'3': 2019, '2': 1800, '1': 1}\n",
      "24X\t{'2': 2445, '1': 1}\n",
      "26Y\t{'3': 2857, '2': 2593}\n",
      "10X\t{'1': 2956, '3': 1}\n",
      "34X\t{'3': 2480, '2': 2164}\n",
      "28X\t{'3': 1186, '2': 988}\n",
      "32Y\t{'3': 1581, '2': 1525}\n",
      "19X\t{'2': 2505, '1': 2440}\n",
      "30X\t{'3': 2599, '1': 3, '2': 2327}\n",
      "22Y\t{'2': 1319, '3': 1, '1': 1338}\n",
      "02Y\t{'1': 2958}\n",
      "12Y\t{'1': 2646}\n",
      "04X\t{'1': 7398, '2': 1, '3': 1}\n",
      "03X\t{'1': 3807, '2': 1}\n",
      "03Y\t{'1': 2712, '2': 7, '3': 2}\n",
      "17Y\t{'2': 1296, '3': 5, '1': 1275}\n",
      "26X\t{'3': 1598, '2': 1369}\n",
      "32X\t{'3': 1875, '2': 1821}\n",
      "25X\t{'2': 2083, '1': 1926}\n",
      "24Y\t{'2': 2566, '3': 1}\n",
      "12X\t{'1': 2416, '2': 1}\n",
      "35X\t{'3': 1901, '1': 1, '2': 1957}\n",
      "02X\t{'1': 2609, '2': 1}\n",
      "31Y\t{'3': 2115, '2': 1938, '1': 1}\n",
      "22X\t{'2': 1515, '1': 1534}\n",
      "05X\t{'1': 2619}\n",
      "01X\t{'1': 2201, '2': 2}\n",
      "16Y\t{'2': 767, '1': 787}\n",
      "18Y\t{'2': 958, '3': 1, '1': 813}\n",
      "09X\t{'1': 3619, '2': 2}\n",
      "30Y\t{'3': 2726, '2': 2538, '1': 1}\n",
      "27Y\t{'3': 2207, '2': 1924}\n",
      "13Z\t{'1': 2538}\n",
      "23X\t{'2': 5034, '1': 1}\n",
      "13Y\t{'1': 2006}\n",
      "17X\t{'2': 1125, '3': 1, '1': 1001}\n",
      "27X\t{'3': 1834, '2': 1853}\n",
      "29X\t{'3': 2363, '1': 1, '2': 2103}\n",
      "21X\t{'2': 2582, '1': 2}\n",
      "14X\t{'2': 1392, '1': 1333}\n",
      "25Y\t{'2': 784, '1': 687}\n",
      "11X\t{'1': 2081}\n",
      "14Y\t{'2': 741, '1': 746, '3': 1}\n",
      "16X\t{'2': 504, '1': 488}\n",
      "15X\t{'2': 1292, '1': 1211}\n",
      "13X\t{'1': 1120}\n",
      "35Y\t{'3': 1020, '2': 914, '1': 1}\n",
      "31Z\t{'3': 978, '2': 872}\n",
      "31X\t{'3': 1296, '2': 1299, '1': 1}\n",
      "05Y\t{'1': 706}\n",
      "18X\t{'2': 556, '1': 504}\n",
      "PDT2\t{'1': 19, '2': 1}\n"
     ]
    }
   ],
   "source": [
    "beat_area_cnt = defaultdict(lambda:defaultdict(int))\n",
    "for record in records_2011:\n",
    "    if record[5]=='':continue # Beat缺失\n",
    "    if record[4]=='':continue # Area缺失\n",
    "    beat_area_cnt[record[5]][record[4]]+=1\n",
    "for beat in beat_area_cnt:\n",
    "    print(beat,end='\\t')\n",
    "    print(dict(beat_area_cnt[beat]))"
   ]
  },
  {
   "cell_type": "markdown",
   "id": "b7c816df",
   "metadata": {},
   "source": [
    "虽然存在一定数量的特殊情况，但是管区还是大致能对应到Area的。因此我们使用每个管区命中次数最多的Area来填充缺失的Area；12、13两年的数据也照此办理。"
   ]
  },
  {
   "cell_type": "code",
   "execution_count": 20,
   "id": "b2abe260",
   "metadata": {},
   "outputs": [
    {
     "name": "stdout",
     "output_type": "stream",
     "text": [
      "填充数据中的Area ID计数(2011年): defaultdict(<class 'int'>, {'2': 189, '3': 318, '1': 212})\n"
     ]
    },
    {
     "data": {
      "image/png": "[encoded data removed]",
      "text/plain": [
       "<Figure size 432x288 with 1 Axes>"
      ]
     },
     "metadata": {
      "needs_background": "light"
     },
     "output_type": "display_data"
    }
   ],
   "source": [
    "beat_pred={}\n",
    "for beat in beat_area_cnt:\n",
    "    beat_pred[beat] = max(beat_area_cnt[beat],key=lambda k:beat_area_cnt[beat][k])\n",
    "area_filled = []\n",
    "area_exist=[]\n",
    "for record in records_2011:\n",
    "    if record[4]!='':\n",
    "        area_exist.append([record[4]])\n",
    "    elif record[5]!='':\n",
    "        area_filled.append([beat_pred[record[5]]])\n",
    "print('填充数据中的Area ID计数(2011年): ',end='')\n",
    "print(count_occurence(area_filled,0,True))\n",
    "plot_barchart(\n",
    "    'Barchart on AreaID, overall after filling',\n",
    "    'Area ID', '%',\n",
    "    cutoff(count_occurence(area_filled+area_exist,0),.0),\n",
    "    do_sort = True\n",
    ")"
   ]
  },
  {
   "cell_type": "markdown",
   "id": "dac76790",
   "metadata": {},
   "source": [
    "可以说，这些缺失数据对整体分布的影响是比较小的。\n",
    "\n",
    "对于2012年的数据，处理结果如下："
   ]
  },
  {
   "cell_type": "code",
   "execution_count": 21,
   "id": "13e6ed95",
   "metadata": {},
   "outputs": [
    {
     "name": "stdout",
     "output_type": "stream",
     "text": [
      "填充数据中的Area ID计数(2012年): defaultdict(<class 'int'>, {'1': 519, '2': 702})\n"
     ]
    },
    {
     "data": {
      "image/png": "[encoded data removed]",
      "text/plain": [
       "<Figure size 432x288 with 1 Axes>"
      ]
     },
     "metadata": {
      "needs_background": "light"
     },
     "output_type": "display_data"
    }
   ],
   "source": [
    "records_2012 = list(filter(lambda record:record[0]==2012,records_clean))\n",
    "beat_area_cnt = defaultdict(lambda:defaultdict(int))\n",
    "for record in records_2012:\n",
    "    if record[5]=='':continue # Beat缺失\n",
    "    if record[4]=='':continue # Area缺失\n",
    "    beat_area_cnt[record[5]][record[4]]+=1\n",
    "beat_pred={}\n",
    "for beat in beat_area_cnt:\n",
    "    beat_pred[beat] = max(beat_area_cnt[beat],key=lambda k:beat_area_cnt[beat][k])\n",
    "area_filled = []\n",
    "area_exist=[]\n",
    "for record in records_2012:\n",
    "    if record[4]!='':\n",
    "        area_exist.append([record[4]])\n",
    "    elif record[5]!='':\n",
    "        area_filled.append([beat_pred[record[5]]])\n",
    "print('填充数据中的Area ID计数(2012年): ',end='')\n",
    "print(count_occurence(area_filled,0,True))\n",
    "plot_barchart(\n",
    "    'Barchart on AreaID, overall after filling',\n",
    "    'Area ID', '%',\n",
    "    cutoff(count_occurence(area_filled+area_exist,0),.0),\n",
    "    do_sort = True\n",
    ")"
   ]
  },
  {
   "cell_type": "markdown",
   "id": "d1f8c87c",
   "metadata": {},
   "source": [
    "对于2013年的数据，处理结果如下："
   ]
  },
  {
   "cell_type": "code",
   "execution_count": 22,
   "id": "605fbe47",
   "metadata": {},
   "outputs": [
    {
     "name": "stdout",
     "output_type": "stream",
     "text": [
      "填充数据中的Area ID计数(2013年): defaultdict(<class 'int'>, {'1': 519, '2': 702})\n"
     ]
    },
    {
     "data": {
      "image/png": "[encoded data removed]",
      "text/plain": [
       "<Figure size 432x288 with 1 Axes>"
      ]
     },
     "metadata": {
      "needs_background": "light"
     },
     "output_type": "display_data"
    }
   ],
   "source": [
    "records_2013 = list(filter(lambda record:record[0]==2012,records_clean))\n",
    "beat_area_cnt = defaultdict(lambda:defaultdict(int))\n",
    "for record in records_2013:\n",
    "    if record[5]=='':continue # Beat缺失\n",
    "    if record[4]=='':continue # Area缺失\n",
    "    beat_area_cnt[record[5]][record[4]]+=1\n",
    "beat_pred={}\n",
    "for beat in beat_area_cnt:\n",
    "    beat_pred[beat] = max(beat_area_cnt[beat],key=lambda k:beat_area_cnt[beat][k])\n",
    "area_filled = []\n",
    "area_exist=[]\n",
    "for record in records_2013:\n",
    "    if record[4]!='':\n",
    "        area_exist.append([record[4]])\n",
    "    elif record[5]!='':\n",
    "        area_filled.append([beat_pred[record[5]]])\n",
    "print('填充数据中的Area ID计数(2013年): ',end='')\n",
    "print(count_occurence(area_filled,0,True))\n",
    "plot_barchart(\n",
    "    'Barchart on AreaID, overall after filling',\n",
    "    'Area ID', '%',\n",
    "    cutoff(count_occurence(area_filled+area_exist,0),.0),\n",
    "    do_sort = True\n",
    ")"
   ]
  },
  {
   "cell_type": "markdown",
   "id": "64155957",
   "metadata": {},
   "source": [
    "### Beat\n",
    "\n",
    "与之前的Area类似，我们先整体分析其缺失值状况和总体分布情况："
   ]
  },
  {
   "cell_type": "code",
   "execution_count": 23,
   "id": "30fff46f",
   "metadata": {
    "scrolled": true
   },
   "outputs": [
    {
     "name": "stdout",
     "output_type": "stream",
     "text": [
      "缺失值数量: 5801\n"
     ]
    },
    {
     "data": {
      "image/png": "[encoded data removed]",
      "text/plain": [
       "<Figure size 1080x324 with 1 Axes>"
      ]
     },
     "metadata": {
      "needs_background": "light"
     },
     "output_type": "display_data"
    }
   ],
   "source": [
    "beat_count = count_occurence(records_clean,5,False)\n",
    "print(f'缺失值数量: {beat_count[\"\"]}')\n",
    "plot_barchart(\n",
    "    'Barchart on column \"Beat\"(>=1%)',\n",
    "    \"Beat\",'%',\n",
    "    cutoff(beat_count,.01),\n",
    "    do_sort=True,\n",
    "    figsize=(15,4.5)\n",
    ")"
   ]
  },
  {
   "cell_type": "markdown",
   "id": "dd43a15c",
   "metadata": {},
   "source": [
    "可见Beat方面，出警记录分布在大多数管区中，但是一些管区（如04X、08X等）的出警记录密度较其他管区高。对于缺失值的处理，首先考虑直接忽略这些缺失值。忽略缺失值之后，剩余数据的分布情况如下所示。\n",
    "\n",
    "年份上的分布情况："
   ]
  },
  {
   "cell_type": "code",
   "execution_count": 24,
   "id": "0cc38f20",
   "metadata": {},
   "outputs": [
    {
     "data": {
      "image/png": "[encoded data removed]",
      "text/plain": [
       "<Figure size 432x288 with 1 Axes>"
      ]
     },
     "metadata": {
      "needs_background": "light"
     },
     "output_type": "display_data"
    }
   ],
   "source": [
    "records_beatfilter = [record for record in records if record[5]!='']\n",
    "plot_barchart(\n",
    "    'Barchart on Year',\n",
    "    'Yr','%',\n",
    "    cutoff(count_occurence(records_beatfilter,0),0.),\n",
    "    bar_width = 1.0\n",
    ")"
   ]
  },
  {
   "cell_type": "markdown",
   "id": "852d0011",
   "metadata": {},
   "source": [
    "可见被删除数据以14、15两年为主。\n",
    "\n",
    "持续时间的分布情况。由于缺失数据比例较低，所以仅展示缺失数据时间上的分布情况。"
   ]
  },
  {
   "cell_type": "code",
   "execution_count": 25,
   "id": "bc38902b",
   "metadata": {},
   "outputs": [
    {
     "name": "stdout",
     "output_type": "stream",
     "text": [
      "(0.0, 0.013888888888888888, 0.08944444444444444, 0.5052777777777778, 23.99972222222222)\n"
     ]
    },
    {
     "data": {
      "image/png": "[encoded data removed]",
      "text/plain": [
       "<Figure size 432x288 with 1 Axes>"
      ]
     },
     "metadata": {
      "needs_background": "light"
     },
     "output_type": "display_data"
    }
   ],
   "source": [
    "times_filtered = [(record[2],record[-1]) for record in records if record[5]=='']\n",
    "hrs = []\n",
    "for sbegin,send in times_filtered:\n",
    "    if '' in (sbegin,send):continue\n",
    "    delta = datetime.datetime.fromisoformat(send)-datetime.datetime.fromisoformat(sbegin)\n",
    "    hrs.append(delta.seconds/3600)\n",
    "print(fivenum_summary(hrs))\n",
    "plt.figure()\n",
    "plt.title(\"Boxplot on event time(in hours)\")\n",
    "plt.boxplot(hrs)\n",
    "plt.show()"
   ]
  },
  {
   "cell_type": "markdown",
   "id": "7482d37d",
   "metadata": {},
   "source": [
    "可见，这些没有指明管区的时间绝大多数是半小时内结束的短事件。由于管区信息分布的较为平均，没有明显处于主要地位的取值，因此并不用最常用值来填充这些缺失值。\n",
    "\n",
    "### Priority\n",
    "\n",
    "首先统计这个属性的缺失值情况和分布情况。"
   ]
  },
  {
   "cell_type": "code",
   "execution_count": 26,
   "id": "7cc9250c",
   "metadata": {
    "scrolled": true
   },
   "outputs": [
    {
     "name": "stdout",
     "output_type": "stream",
     "text": [
      "缺失值数量: 0\n"
     ]
    },
    {
     "data": {
      "image/png": "[encoded data removed]",
      "text/plain": [
       "<Figure size 432x288 with 1 Axes>"
      ]
     },
     "metadata": {
      "needs_background": "light"
     },
     "output_type": "display_data"
    },
    {
     "name": "stdout",
     "output_type": "stream",
     "text": [
      "事件优先级统计表\n",
      "等级\t次数\n",
      "1\t231542\n",
      "2\t814818\n",
      "0\t24\n"
     ]
    }
   ],
   "source": [
    "pri_count = count_occurence(records_clean,6,False)\n",
    "print(f'缺失值数量: {pri_count[\"\"]}')\n",
    "_=pri_count.pop('')\n",
    "plot_barchart(\n",
    "    'Barchart on column \"Priority\"',\n",
    "    \"Beat\",'%',\n",
    "    cutoff(pri_count,.0),\n",
    "    do_sort=True\n",
    ")\n",
    "print(\"事件优先级统计表\")\n",
    "print(\"等级\\t次数\")\n",
    "for pri in pri_count:\n",
    "    print(f'{pri}\\t{pri_count[pri]}')"
   ]
  },
  {
   "cell_type": "markdown",
   "id": "a45c2324",
   "metadata": {},
   "source": [
    "可见从优先级来看，应当是0级事件最重要，2级事件最不重要。稍后分析事件类型时我们将会分析何种事件对应什么样的优先级。\n",
    "\n",
    "我们现在对优先级和处理时间的关联进行分析。我们按优先级对事件分类，之后分别绘制处理时间的盒图："
   ]
  },
  {
   "cell_type": "code",
   "execution_count": 27,
   "id": "d60a4f3b",
   "metadata": {},
   "outputs": [
    {
     "data": {
      "image/png": "[encoded data removed]",
      "text/plain": [
       "<Figure size 432x288 with 1 Axes>"
      ]
     },
     "metadata": {
      "needs_background": "light"
     },
     "output_type": "display_data"
    }
   ],
   "source": [
    "hrs = [[],[],[]]\n",
    "for record in records_clean:\n",
    "    sbegin = record[2]\n",
    "    send = record[-1]\n",
    "    if '' in (sbegin,send):continue\n",
    "    delta = datetime.datetime.fromisoformat(send)-datetime.datetime.fromisoformat(sbegin)\n",
    "    hrs[int(record[6])].append(delta.seconds/3600)\n",
    "plt.figure()\n",
    "plt.title('Boxplot on event time, sorted by priority')\n",
    "plt.xlabel('Priority')\n",
    "plt.ylabel('Hours Used')\n",
    "plt.boxplot(hrs,positions=range(3))\n",
    "plt.show()"
   ]
  },
  {
   "cell_type": "markdown",
   "id": "0e3dfd66",
   "metadata": {},
   "source": [
    "图中可见，优先级0事件的处理用时比另两个优先级长。虽然离群值的绝对数量较少，但考虑到优先级0的事件本身就比另两类事件少4个数量级，这也表示优先级0的事件执行时间有可能更高。优先级1事件的处理时间较优先级2为短。\n",
    "\n",
    "### Incident Type\n",
    "\n",
    "事件类别和其后的解释说明在逻辑上应当存在一致关系，在此统一处理。\n",
    "\n",
    "我们先看事件类别的缺失值和分布情况，再看类别解释说明的缺失值和分布情况。由于解释说明比较长，画图时会叠在一起，所以另附统计表。"
   ]
  },
  {
   "cell_type": "code",
   "execution_count": 28,
   "id": "1e9f4b8e",
   "metadata": {},
   "outputs": [
    {
     "name": "stdout",
     "output_type": "stream",
     "text": [
      "事件类别ID缺失值数量: 0\n",
      "类别ID可能取值有288种\n"
     ]
    },
    {
     "data": {
      "image/png": "[encoded data removed]",
      "text/plain": [
       "<Figure size 432x288 with 1 Axes>"
      ]
     },
     "metadata": {
      "needs_background": "light"
     },
     "output_type": "display_data"
    },
    {
     "name": "stdout",
     "output_type": "stream",
     "text": [
      "事件类别说明缺失值数量: 388\n",
      "类别说明可能取值有288种\n"
     ]
    },
    {
     "data": {
      "image/png": "[encoded data removed]",
      "text/plain": [
       "<Figure size 432x288 with 1 Axes>"
      ]
     },
     "metadata": {
      "needs_background": "light"
     },
     "output_type": "display_data"
    },
    {
     "name": "stdout",
     "output_type": "stream",
     "text": [
      "事件优先级统计表\n",
      "次数\t说明\n",
      "98497\tALARM-RINGER\n",
      "70965\tSECURITY CHECK\n",
      "54935\t911 HANG-UP\n",
      "47958\tSTOLEN VEHICLE\n",
      "38257\tDISTURBING THE PEACE\n",
      "37218\tMENTALLY ILL\n",
      "33470\t415 UNKNOWN\n",
      "30636\tBATTERY\n",
      "26984\tSUSPICIOUS PERSON\n",
      "23964\tBATTERY ON CO-HABITA\n",
      "21520\t415 GUNSHOTS\n",
      "21372\t415 FAMILY\n",
      "20781\tSUSPICIOUS VEHICLE\n",
      "19452\tROBBERY\n",
      "18948\tHAZARDOUS SITUATION/\n",
      "17450\tWELFARE CHECK -- CHE\n"
     ]
    }
   ],
   "source": [
    "typeid_count = count_occurence(records_clean,7,False)\n",
    "print(f'事件类别ID缺失值数量: {typeid_count[\"\"]}')\n",
    "print(f'类别ID可能取值有{len(typeid_count)-1}种') # -1是因为还有一个空字符串\n",
    "#_=typeid_count.pop('')\n",
    "plot_barchart(\n",
    "    'Barchart on column \"Incident type ID\"(>=1.5%)',\n",
    "    \"ID\",'%',\n",
    "    cutoff(typeid_count,.015),\n",
    "    do_sort=True\n",
    ")\n",
    "\n",
    "typedesp_count = count_occurence(records_clean,8,False)\n",
    "print(f'事件类别说明缺失值数量: {typedesp_count[\"\"]}')\n",
    "print(f'类别说明可能取值有{len(typedesp_count)-1}种') # -1是因为还有一个空字符串\n",
    "#_=typedesp_count.pop('')\n",
    "plot_barchart(\n",
    "    'Barchart on column \"Incident type Description\"(>=1.5%)',\n",
    "    \"ID\",'%',\n",
    "    cutoff(typedesp_count,.015),\n",
    "    do_sort=True\n",
    ")\n",
    "desps = list(typedesp_count.keys())\n",
    "desps.sort(key = lambda d:typedesp_count[d],reverse=True)\n",
    "print(\"事件优先级统计表\")\n",
    "print(\"次数\\t说明\")\n",
    "for desp in desps:\n",
    "    if typedesp_count[desp] <= .015*records_clean_count:\n",
    "        break\n",
    "    print(f'{typedesp_count[desp]}\\t{desp}')"
   ]
  },
  {
   "cell_type": "markdown",
   "id": "de2a0ac3",
   "metadata": {},
   "source": [
    "考察类别ID与Description的对应关系："
   ]
  },
  {
   "cell_type": "code",
   "execution_count": 29,
   "id": "77905cb9",
   "metadata": {},
   "outputs": [
    {
     "name": "stdout",
     "output_type": "stream",
     "text": [
      "No description: \n",
      "#occurs\tID\n",
      "388\tJGP\n",
      "\n",
      "Multiple descriptions:\n",
      "415 (66720 occurs)\n",
      "\t415 FAMILY\n",
      "\tDISTURBING THE PEACE\n",
      "\tDISTURBANCE-DRINKERS\n",
      "647 (4763 occurs)\n",
      "\tDISORDERLY CONDUCT\n",
      "\tDISORDERLY CONDUCT:\n",
      "901 (8156 occurs)\n",
      "\tVEHICLE COLLISION-DR\n",
      "\tVEHICLE COLLISION/PR\n",
      "955 (6590 occurs)\n",
      "\tANIMAL-STRAYING\n",
      "\tINJURIED ANIMAL\n"
     ]
    }
   ],
   "source": [
    "desc_collect = defaultdict(set)\n",
    "for record in records_clean:\n",
    "    desc_collect[record[7]].add(record[8])\n",
    "# 删去空字符串\n",
    "for eid in desc_collect:\n",
    "    desc_collect[eid].add('')\n",
    "    desc_collect[eid].remove('')\n",
    "\n",
    "desc_count = {}\n",
    "for eid in desc_collect:\n",
    "    desc_count[eid] = len(desc_collect[eid])\n",
    "    \n",
    "print(\"No description: \")\n",
    "print('#occurs\\tID')\n",
    "for eid in desc_collect:\n",
    "    if desc_count[eid]==0:\n",
    "        print(f'{typeid_count[eid]}\\t{eid}')\n",
    "print()\n",
    "        \n",
    "print('Multiple descriptions:')\n",
    "for eid in desc_collect:\n",
    "    if desc_count[eid]>1:\n",
    "        print(f'{eid} ({typeid_count[eid]} occurs)')\n",
    "        for desc in desc_collect[eid]:\n",
    "            print('\\t'+desc)"
   ]
  },
  {
   "cell_type": "markdown",
   "id": "105a4e37",
   "metadata": {},
   "source": [
    "除了一个ID为JGP的事件从未见到描述以外，其余事件都有对应的描述，且大多数具有唯一的描述。有4个事件ID具有多个描述，这些描述表达的意思是大致相同的，因此可以随机使用其一来补全缺失数据。"
   ]
  },
  {
   "cell_type": "code",
   "execution_count": 30,
   "id": "81148cde",
   "metadata": {},
   "outputs": [
    {
     "data": {
      "text/plain": [
       "388"
      ]
     },
     "execution_count": 30,
     "metadata": {},
     "output_type": "execute_result"
    }
   ],
   "source": [
    "records_filled = []\n",
    "for record in records_clean:\n",
    "    new_rec = record.copy()\n",
    "    if record[8]=='':\n",
    "        if desc_count[record[7]]==0:\n",
    "            new_rec[8]=record[7]\n",
    "        else:\n",
    "            new_rec[8]=desc_collect[record[7]]\n",
    "            desc_collect.add(new_rec[8])\n",
    "        records_filled.append(new_rec)\n",
    "len(records_filled)"
   ]
  },
  {
   "cell_type": "markdown",
   "id": "feaabdc8",
   "metadata": {},
   "source": [
    "最后，我们看一下不同优先级的事件中，事件类型的分布。"
   ]
  },
  {
   "cell_type": "code",
   "execution_count": 31,
   "id": "0910326d",
   "metadata": {},
   "outputs": [
    {
     "name": "stdout",
     "output_type": "stream",
     "text": [
      "Priority 0:\n",
      "%\tID\tDescription\n",
      "87.50\t940B\tOFFICER NEEDS IMMEDI\n",
      "12.50\tREDALT\tRED ALERT-AIRPLANE I\n"
     ]
    },
    {
     "data": {
      "image/png": "[encoded data removed]",
      "text/plain": [
       "<Figure size 432x288 with 1 Axes>"
      ]
     },
     "metadata": {
      "needs_background": "light"
     },
     "output_type": "display_data"
    },
    {
     "name": "stdout",
     "output_type": "stream",
     "text": [
      "Priority 1:\n",
      "%\tID\tDescription\n",
      "10.76\t242\tBATTERY\n",
      "8.83\t243E\tBATTERY ON CO-HABITA\n",
      "7.04\t211\tROBBERY\n",
      "5.84\t901A\tVEHICLE COLLISION-PE\n",
      "5.11\t943\tFIGHT\n",
      "4.82\t245\tASSAULT W/DEADLY WEA\n",
      "4.31\tCODE7\tSUBJECT ARMED WITH W\n",
      "3.34\t459\tBURGLARY\n",
      "2.79\t5150\tMENTALLY ILL\n",
      "2.47\t929\tFIRE\n",
      "2.44\t459AU\tAUTO BURGLARY--IP\n",
      "2.25\t918\tPERSON SCREAMING\n",
      "2.16\t415C\t415 UNKNOWN\n",
      "2.11\t415\t415 FAMILY\n"
     ]
    },
    {
     "data": {
      "image/png": "[encoded data removed]",
      "text/plain": [
       "<Figure size 432x288 with 1 Axes>"
      ]
     },
     "metadata": {
      "needs_background": "light"
     },
     "output_type": "display_data"
    },
    {
     "name": "stdout",
     "output_type": "stream",
     "text": [
      "Priority 2:\n",
      "%\tID\tDescription\n",
      "11.84\t933R\tALARM-RINGER\n",
      "8.53\tSECCK\tSECURITY CHECK\n",
      "7.59\t415\t415 FAMILY\n",
      "6.74\t911H\t911 HANG-UP\n",
      "5.64\t10851\tSTOLEN VEHICLE\n",
      "3.78\t5150\tMENTALLY ILL\n",
      "3.49\t415C\t415 UNKNOWN\n",
      "3.13\t912\tSUSPICIOUS PERSON\n",
      "2.51\t949\tSUSPICIOUS VEHICLE\n",
      "2.23\t415GS\t415 GUNSHOTS\n",
      "2.07\tHAZ\tHAZARDOUS SITUATION/\n"
     ]
    },
    {
     "data": {
      "image/png": "[encoded data removed]",
      "text/plain": [
       "<Figure size 432x288 with 1 Axes>"
      ]
     },
     "metadata": {
      "needs_background": "light"
     },
     "output_type": "display_data"
    }
   ],
   "source": [
    "types = [[],[],[]]\n",
    "\n",
    "for record in records_clean:\n",
    "    types[int(record[6])].append([record[7]])\n",
    "\n",
    "r=.02\n",
    "for priority in range(3):\n",
    "    print(f\"Priority {priority}:\")\n",
    "    stats = cutoff(count_occurence(types[priority],0),r)\n",
    "    stats_keys = sorted(stats.keys(),key=lambda s:stats[s],reverse=True)\n",
    "    print(\"%\\tID\\tDescription\")\n",
    "    for eid in stats_keys:\n",
    "        if stats[eid]<r:break\n",
    "        print(f\"{stats[eid]:.2f}\",end='\\t')\n",
    "        print(eid,end='\\t')\n",
    "        print(list(desc_collect[eid])[0])\n",
    "    plot_barchart(\n",
    "        f\"Barchart for event type of priority {priority}(>=2%)\",\n",
    "        'Type',\n",
    "        '%',\n",
    "        stats,\n",
    "        do_sort=True\n",
    "    )"
   ]
  },
  {
   "cell_type": "markdown",
   "id": "e63c5acb",
   "metadata": {},
   "source": [
    "从上述分析可以大致确定不同优先级对应的主要事件类型。优先级0的事件类型只有两类紧急的情况：飞机事故的红色警报（按：红色警报应该不止飞机事故这一种情形，可能是因为这几年来3拉响红色警报都是因为飞机事故）和警员需要立即支援的情况。优先级1的事件相对不罕见，但仍然具有一定危害性，如斗殴、抢劫、使用致命武器袭击、车祸以及火警等。优先级2的事件则较常见，且有一些是由自动设备出发的，如自动警报器、安全检查、911呼叫、可疑的人员/车辆等。注意到优先级1和2的事件类型是有重复的，如415类事件（扰乱公共秩序的醉汉）占优先级1和2的事件比例都很高。这也表明优先级不仅仅是凭事件类型判定的，同时也要考虑时态的严重性或紧急性等情况。"
   ]
  }
 ],
 "metadata": {
  "kernelspec": {
   "display_name": "Python 3 (ipykernel)",
   "language": "python",
   "name": "python3"
  },
  "language_info": {
   "codemirror_mode": {
    "name": "ipython",
    "version": 3
   },
   "file_extension": ".py",
   "mimetype": "text/x-python",
   "name": "python",
   "nbconvert_exporter": "python",
   "pygments_lexer": "ipython3",
   "version": "3.9.7"
  }
 },
 "nbformat": 4,
 "nbformat_minor": 5
}
