{
 "cells": [
  {
   "cell_type": "markdown",
   "id": "12b2b259",
   "metadata": {},
   "source": [
    "# 互评作业2：频繁模式与关联规则\n",
    "\n",
    "运行此notebook需要使用matplotlib库。\n",
    "\n",
    "## 0 数据集简介及任务说明\n",
    "\n",
    "本次互评作业使用的数据集是Chicago Building Violations。本数据集包含芝加哥从2006年到2019年所开具的建筑违规罚单。这些罚单记录了罚单的ID、产生日期、最后修改日期、违规的具体情形、建筑地址等等信息。数据集中记录了每一列的意义，如下所示："
   ]
  },
  {
   "cell_type": "code",
   "execution_count": 1,
   "id": "f9100ca2",
   "metadata": {},
   "outputs": [
    {
     "name": "stdout",
     "output_type": "stream",
     "text": [
      "#\tcolumn\n",
      "0\tID\n",
      "1\tVIOLATION LAST MODIFIED DATE\n",
      "2\tVIOLATION DATE\n",
      "\t\tThe date the violation was cited.\n",
      "3\tVIOLATION CODE\n",
      "\t\tThe Violation Code. See Violation Description for the description of what the code means.\n",
      "4\tVIOLATION STATUS\n",
      "\t\tComplied = Violations have been addressed;\n",
      "Open = Violations are open;\n",
      "No Entry = Inspector could not gain access to the premise to conduct an inspection.\n",
      "5\tVIOLATION STATUS DATE\n",
      "6\tVIOLATION DESCRIPTION\n",
      "\t\tThe description of the violation corresponding to the Violation Code value.\n",
      "7\tVIOLATION LOCATION\n",
      "8\tVIOLATION INSPECTOR COMMENTS\n",
      "9\tVIOLATION ORDINANCE\n",
      "10\tINSPECTOR ID\n",
      "11\tINSPECTION NUMBER\n",
      "12\tINSPECTION STATUS\n",
      "13\tINSPECTION WAIVED\n",
      "14\tINSPECTION CATEGORY\n",
      "\t\tInspections are categorized by one of the following: COMPLAINT – Inspection is a result of a 311 Complaint. PERIODIC – Inspection is a result of recurring inspection (typically on an annual cycle). PERMIT – Inspection is a result of a permit. REGISTRATION – Inspection is a result of a Registration (typically Vacant Building Registration).\n",
      "15\tDEPARTMENT BUREAU\n",
      "16\tADDRESS\n",
      "17\tSTREET NUMBER\n",
      "18\tSTREET DIRECTION\n",
      "19\tSTREET NAME\n",
      "20\tSTREET TYPE\n",
      "21\tPROPERTY GROUP\n",
      "\t\tProperties (lots) in the City of Chicago can typically have multiple point addresses, range addresses and buildings. Examples are corner lots, large lots, lots with front and rear buildings, etc.. As a result, inspections (and their associated violations), permits and complaints related to a single property could have different addresses. This problem can be reconciled by using Property Group. All point and range addresses for a property are assigned the same Property Group key.\n",
      "22\tSSA\n",
      "\t\tSpecial Service Areas are local tax districts that fund expanded services and programs, to foster commercial and economic development, through a localized property tax. In other cities these areas are sometimes called Business Improvement Districts (BIDs). This portal contains a map of all Chicago SSAs\n",
      "23\tLATITUDE\n",
      "24\tLONGITUDE\n",
      "25\tLOCATION\n",
      "30\tCommunity Areas\n",
      "31\tZip Codes\n",
      "32\tBoundaries - ZIP Codes\n",
      "33\tCensus Tracts\n",
      "34\tWards\n",
      "35\tHistorical Wards 2003-2015\n"
     ]
    }
   ],
   "source": [
    "import matplotlib.pyplot as plt\n",
    "import json\n",
    "import csv\n",
    "from collections import defaultdict\n",
    "\n",
    "fjson = open(\"Chicago Building Violations/socrata_metadata.json\")\n",
    "\n",
    "json_data=json.load(fjson)\n",
    "print('#\\tcolumn')\n",
    "for column in json_data['columns']:\n",
    "    print(column['position']-1,end='\\t')\n",
    "    print(column['name'])\n",
    "    if 'description' in column:\n",
    "        print('\\t\\t'+column['description'])\n",
    "        \n",
    "# 数据集有些大，进行一些清理工作以节约内存\n",
    "del json_data\n",
    "fjson.close()"
   ]
  },
  {
   "cell_type": "markdown",
   "id": "d8e29016",
   "metadata": {},
   "source": [
    "接下来介绍我们讨论的主要问题。我们先统计记录的个数以及涉及房屋的数量："
   ]
  },
  {
   "cell_type": "code",
   "execution_count": 2,
   "id": "33fd5a39",
   "metadata": {},
   "outputs": [
    {
     "name": "stdout",
     "output_type": "stream",
     "text": [
      "数据集中有1677788条记录\n",
      "数据集涉及154007个房屋地址\n"
     ]
    }
   ],
   "source": [
    "def read_csv(filename):\n",
    "    with open(filename) as f:\n",
    "        csv_content = csv.reader(f)\n",
    "        columns = next(csv_content)\n",
    "        rows = [row for row in csv_content]\n",
    "    return columns, rows\n",
    "\n",
    "# 对标称值计数以及画条形图\n",
    "def count_occurence(data,column,ignore_empty=True):\n",
    "    '''统计数据某个特定列中所有元素的出现次数，返回一个dict-like\n",
    "    如果置ignore-empty为True，则返回的字典中不包含空值的计数'''\n",
    "    count = defaultdict(int)\n",
    "    for row in data:\n",
    "        if ignore_empty and row[column]=='':\n",
    "            continue\n",
    "        count[row[column]]+=1\n",
    "    return count\n",
    "\n",
    "cols_csv,rows_csv = read_csv('Chicago Building Violations/building-violations.csv')\n",
    "print(f'数据集中有{len(rows_csv)}条记录')\n",
    "addr_occurence=count_occurence(rows_csv,16,False)\n",
    "assert '' not in addr_occurence # 显然，数据集中每一条记录都是有对应房屋地址的\n",
    "print(f'数据集涉及{len(addr_occurence)}个房屋地址')"
   ]
  },
  {
   "cell_type": "markdown",
   "id": "ccfd9b58",
   "metadata": {},
   "source": [
    "可见数据集中涉及房屋地址的数量比罚单数量少一个数量级左右，因此本次互评作业的任务是探究房屋开具罚单（确切地说，罚单类型）的模式和关联关系。\n",
    "\n",
    "## 1 数据的预处理\n",
    "\n",
    "接下来，我们对数据集进行一些预处理，仅保留我们需要的内容。我们想要保留的数据只有两类：1）违规代码与其解释的对应关系；2）每个房屋产生过哪些违规罚单。为了节约内存，我们忽略掉其他部分。"
   ]
  },
  {
   "cell_type": "code",
   "execution_count": 3,
   "id": "b9b021e9",
   "metadata": {},
   "outputs": [],
   "source": [
    "# 违规代码到对应解释的映射关系\n",
    "viol2code=[]\n",
    "viol2desp=[]\n",
    "code2viol={}\n",
    "# 建筑物到其地址的关系\n",
    "bld2addr=[]\n",
    "addr2bld={}\n",
    "# 建筑物ID到其产生的罚单表的关系\n",
    "bld2viols=[]\n",
    "for row in rows_csv:\n",
    "    # 整理违规代码对应的解释\n",
    "    code = row[3]\n",
    "    desp = row[6]\n",
    "    violid=-1\n",
    "    if code in code2viol:\n",
    "        violid=code2viol[code]\n",
    "    else:\n",
    "        violid = len(viol2code)\n",
    "        viol2code.append(code)\n",
    "        viol2desp.append(desp)\n",
    "        code2viol[code]=violid\n",
    "    # 整理建筑物罚单\n",
    "    addr = row[16]\n",
    "    bldid = -1\n",
    "    if addr in addr2bld:\n",
    "        bldid = addr2bld[addr]\n",
    "    else:\n",
    "        bldid = len(bld2addr)\n",
    "        bld2addr.append(addr)\n",
    "        bld2viols.append([])\n",
    "        addr2bld[addr]=bldid\n",
    "    bld2viols[bldid].append(violid)\n",
    "# 原始数据量很大，故删除之以节省内存\n",
    "del rows_csv\n",
    "del addr2bld\n",
    "del code2viol"
   ]
  },
  {
   "cell_type": "markdown",
   "id": "c079d2c0",
   "metadata": {},
   "source": [
    "我们来看一下每个建筑物对应的罚单数量的分布情况："
   ]
  },
  {
   "cell_type": "code",
   "execution_count": 4,
   "id": "b4608fa8",
   "metadata": {},
   "outputs": [
    {
     "data": {
      "image/png": "[encoded data removed]",
      "text/plain": [
       "<Figure size 432x288 with 1 Axes>"
      ]
     },
     "metadata": {
      "needs_background": "light"
     },
     "output_type": "display_data"
    }
   ],
   "source": [
    "viol_count=sorted([len(l)for l in bld2viols])\n",
    "\n",
    "def plot_qchart(values,title='Q-chart',extra_sort=True):\n",
    "    count = len(values)\n",
    "    plotted_vals = sorted(values) if extra_sort else values\n",
    "    plt.figure()\n",
    "    plt.title(title)\n",
    "    plt.plot(plotted_vals,[i/count for i in range(count)])\n",
    "    plt.show()\n",
    "\n",
    "bld_count = len(viol_count)\n",
    "plot_qchart(viol_count,'Q-chart on violations-per-building',False)"
   ]
  },
  {
   "cell_type": "markdown",
   "id": "04c3310b",
   "metadata": {},
   "source": [
    "从上述统计看，绝大多数建筑只有很少（不到50个）的罚单，但个别建筑有很多罚单。\n",
    "\n",
    "## 2 频繁模式统计\n",
    "\n",
    "现在我们统计这对关系中的频繁模式。我们使用Apriori方法找到所有的频繁模式："
   ]
  },
  {
   "cell_type": "code",
   "execution_count": 5,
   "id": "f35e5adf",
   "metadata": {},
   "outputs": [
    {
     "name": "stdout",
     "output_type": "stream",
     "text": [
      "首次扫描……\n",
      "计算支持度：1467/1468            \n",
      "求第2次扫描的候选集……\n",
      "计算支持度：377/378            \n",
      "求第3次扫描的候选集……\n",
      "计算支持度：20/21            \n",
      "求第4次扫描的候选集……\n",
      "计算支持度：4/5            \n",
      "求第5次扫描的候选集……\n",
      "计算支持度：0/1            \n",
      "找到74个频繁项集\n"
     ]
    }
   ],
   "source": [
    "min_support=.07\n",
    "buildings = len(bld2viols)\n",
    "abssup_min = int(min_support*buildings)\n",
    "\n",
    "#Apriori算法的原实现来自\n",
    "#https://blog.csdn.net/qq_39872846/article/details/105291265\n",
    "#使用时有改动\n",
    "\n",
    "# 求第一次扫描数据库后的候选集\n",
    "# 就是求这个数据库中出现了几个元素，然后返回\n",
    "def item(dataset):\n",
    "    print('首次扫描……')\n",
    "    s1=set()\n",
    "    for x in dataset:\n",
    "        for y in x:\n",
    "            s1.add(y)\n",
    "    return sorted([[y] for y in s1])\n",
    "\n",
    "# 求第k次候选集\n",
    "def get_candidate(Fk, K):\n",
    "    print(f'\\n求第{K}次扫描的候选集……')\n",
    "    ck = []    #存放产生候选集\n",
    "\n",
    "    for i in range(len(Fk)):\n",
    "        for j in range(i+1, len(Fk)):\n",
    "            L1 = list(Fk[i])[:K-2]\n",
    "            L2 = list(Fk[j])[:K-2]\n",
    "            L1.sort()\n",
    "            L2.sort() #先排序，在进行组合\n",
    "\n",
    "            if L1 == L2:\n",
    "                if K > 2:\n",
    "                    new = list(set(Fk[i]) ^ set(Fk[j]) )\n",
    "                else:\n",
    "                    new = set()\n",
    "                for x in Fk: \n",
    "                    #剪枝：new是 x 的子集，并且 还没有加入 ck 中\n",
    "                    if set(new).issubset(set(x)) and list(set(Fk[i]) | set(Fk[j])) not in ck: \n",
    "                        ck.append( list(set(Fk[i]) | set(Fk[j])) )\n",
    "    return ck\n",
    "\n",
    "def get_frequent_item(dataset, c, min_support):\n",
    "    cut_branch = {}     #用来存放所有项集的支持度的字典\n",
    "    lc=len(c)\n",
    "    for i,x in enumerate(c):\n",
    "        setx=set(x)\n",
    "        for y in dataset:\n",
    "            if setx.issubset(set(y)):     #如果 x 在 y中，就把对应元素后面加 1\n",
    "                cut_branch[tuple(x)] = cut_branch.get(tuple(x), 0) + 1\n",
    "                #cut_branch[y] = new_cand.get(y, 0)表示如果字典里面没有想要的关键词，就返回0\n",
    "        print(f'\\r计算支持度：{i}/{lc}            ',end='')\n",
    "\n",
    "    Fk = []       #支持度大于最小支持度的项集，  即频繁项集\n",
    "    sup_dataK = {}  #用来存放所有 频繁 项集的支持度的字典\n",
    "\n",
    "    for i in cut_branch:\n",
    "        if cut_branch[i] >= min_support:\n",
    "            Fk.append( list(i))\n",
    "            sup_dataK[i] = cut_branch[i]\n",
    "    return Fk, sup_dataK\n",
    "\n",
    "# 此方法有两个返回值：\n",
    "# F是一个三维列表，第0维是历次迭代产生的频繁项集，第1维是各个频繁项集，第2维是集合中的各个项\n",
    "# sup是一个字典，键是各个频繁项集，值是频繁项集对应的绝对support\n",
    "def Apriori(dataset, min_support = 2):\n",
    "    c1 = item (dataset) #返回一个二维列表，里面的每一个一维列表，都是第一次候选集的元素\n",
    "    f1, sup_1 = get_frequent_item(dataset, c1, min_support)       #求第一次候选集\n",
    "\n",
    "    F = [f1]      #将第一次候选集产生的频繁项集放入 F ,以后每次扫描产生的所有频繁项集都放入里面\n",
    "    sup_data = sup_1       #一个字典，里面存放所有产生的候选集，及其支持度\n",
    "\n",
    "    K = 2 #从第二个开始循环求解，先求候选集，在求频繁项集\n",
    "\n",
    "    while (len(F[K-2]) > 1):  #k-2是因为F是从0开始数的     #前一个的频繁项集个数在2个或2个以上，才继续循环，否则退出\n",
    "        ck = get_candidate(F[K-2], K)  #求第k次候选集\n",
    "        fk, sup_k = get_frequent_item(dataset, ck, min_support)     #求第k次频繁项集\n",
    "\n",
    "        F.append(fk)    #把新产生的候选集加入F\n",
    "        sup_data.update(sup_k)  #字典更新，加入新得出的数据\n",
    "        K+=1\n",
    "    # 返回之前要整理以下项集，让它有序，方便后续操作\n",
    "    sup_data_org={}\n",
    "    for itemset in sup_data:\n",
    "        sup_data_org[tuple(sorted(itemset))] = sup_data[itemset]\n",
    "    return F, sup_data_org    #返回所有频繁项集， 以及存放频繁项集支持度的字典\n",
    "\n",
    "f,sup = Apriori(bld2viols,abssup_min)\n",
    "lF = sum([len(l) for l in f])\n",
    "assert len(sup) == lF\n",
    "del f\n",
    "del lF\n",
    "print()\n",
    "print(f'找到{len(sup)}个频繁项集')\n"
   ]
  },
  {
   "cell_type": "markdown",
   "id": "4be406c8",
   "metadata": {},
   "source": [
    "之后我们搜索所有闭频繁项目集："
   ]
  },
  {
   "cell_type": "code",
   "execution_count": 6,
   "id": "90c5927a",
   "metadata": {},
   "outputs": [
    {
     "name": "stdout",
     "output_type": "stream",
     "text": [
      "找到74个闭频繁项集\n"
     ]
    }
   ],
   "source": [
    "# 搜索所有闭频繁项集\n",
    "close_freqitems={}\n",
    "for items in sup:\n",
    "    sitem = set(items)\n",
    "    drop=False\n",
    "    for cmp in sup:\n",
    "        if cmp==items: continue\n",
    "        if sitem.issubset(cmp):\n",
    "            if sup[items] == sup[cmp]:\n",
    "                drop=True\n",
    "                break\n",
    "    if not drop:\n",
    "        close_freqitems[items] = sup[items]\n",
    "print(f'找到{len(close_freqitems)}个闭频繁项集')"
   ]
  },
  {
   "cell_type": "markdown",
   "id": "7b6b36b2",
   "metadata": {},
   "source": [
    "下图展示了这74个闭频繁项集大小的分布："
   ]
  },
  {
   "cell_type": "code",
   "execution_count": 7,
   "id": "1e5cdd7d",
   "metadata": {},
   "outputs": [
    {
     "data": {
      "image/png": "[encoded data removed]",
      "text/plain": [
       "<Figure size 432x288 with 1 Axes>"
      ]
     },
     "metadata": {
      "needs_background": "light"
     },
     "output_type": "display_data"
    }
   ],
   "source": [
    "itemset_lens = [len(i) for i in close_freqitems]\n",
    "plot_qchart(itemset_lens,'Q-chart on freq.itemset sizes')"
   ]
  },
  {
   "cell_type": "markdown",
   "id": "de06f934",
   "metadata": {},
   "source": [
    "可见绝大多数频繁项集都是1项、2项的，少数具有3-4个元素。个别的频繁项集具有5个元素，不存在涉及更多元素的频繁项集。\n",
    "\n",
    "## 3 导出关联规则\n",
    "\n",
    "使用频繁项集来导出关联规则。定义最低置信度，并且筛选出满足置信度要求的关联规则。\n",
    "\n",
    "首先，我们定义关联规则的数据结构。这个数据结构存储规则的两边以及原始的项集，同时存储support信息和confidence。"
   ]
  },
  {
   "cell_type": "code",
   "execution_count": 8,
   "id": "0136854b",
   "metadata": {},
   "outputs": [],
   "source": [
    "# 定义关联规则的数据结构\n",
    "class Rule:\n",
    "    def __init__(self,itemset,head):\n",
    "        assert head in itemset\n",
    "        self.head = head\n",
    "        self.items = tuple(itemset)\n",
    "        self.to = tuple(sorted([i for i in itemset if i != head]))\n",
    "        # 这里的support存储的是绝对支持度\n",
    "        self.head_support = sup[(head,)]\n",
    "        self.support = sup[itemset]\n",
    "        self.confidence = self.support/self.head_support\n",
    "        assert self.confidence <=1\n",
    "        self.lift=None"
   ]
  },
  {
   "cell_type": "markdown",
   "id": "7b47e14b",
   "metadata": {},
   "source": [
    "之后，我们遍历项目集，找出所有满足最低置信度要求的关联规则。"
   ]
  },
  {
   "cell_type": "code",
   "execution_count": 9,
   "id": "8839b2c4",
   "metadata": {},
   "outputs": [
    {
     "name": "stdout",
     "output_type": "stream",
     "text": [
      "提取出114条关联规则，其置信度分布如下图所示：\n"
     ]
    },
    {
     "data": {
      "image/png": "[encoded data removed]",
      "text/plain": [
       "<Figure size 432x288 with 1 Axes>"
      ]
     },
     "metadata": {
      "needs_background": "light"
     },
     "output_type": "display_data"
    }
   ],
   "source": [
    "min_confidence = 0.2\n",
    "rules:list[Rule]=[]\n",
    "for itemset in close_freqitems:\n",
    "    if len(itemset)<2: continue\n",
    "    for head in itemset:\n",
    "        newrule = Rule(itemset,head)\n",
    "        if newrule.confidence>=min_confidence:\n",
    "            rules.append(newrule)\n",
    "print(f'提取出{len(rules)}条关联规则，其置信度分布如下图所示：')\n",
    "confidences=[rule.confidence for rule in rules]\n",
    "plot_qchart(confidences,'Q-chart on rule confidence')"
   ]
  },
  {
   "cell_type": "markdown",
   "id": "8e7e11f8",
   "metadata": {},
   "source": [
    "与之前的Q图相同，此Q图的横坐标是置信度，纵坐标是对应置信度在整体中的比例。注意到有约一半关联规则的置信度在85%以上，约1/4的关联规则置信度在90%以上。下面展示这些置信度在90%以上的关联规则。这些关联规则都是用违规条目的ID表示的，我们在后面附上ID对应的编码和解释。"
   ]
  },
  {
   "cell_type": "code",
   "execution_count": 10,
   "id": "5ea1d35f",
   "metadata": {},
   "outputs": [
    {
     "name": "stdout",
     "output_type": "stream",
     "text": [
      "total 36 rules to be shown:\n",
      "Confidence  Set Sup.    Head  Tail\n",
      "0.99867     0.09255     124   (131,)\n",
      "0.99846     0.09253     124   (136,)\n",
      "0.99825     0.09251     124   (131, 136)\n",
      "0.99055     0.09259     136   (131,)\n",
      "0.98993     0.09253     136   (124,)\n",
      "0.98972     0.09251     136   (124, 131)\n",
      "0.98911     0.09259     131   (136,)\n",
      "0.98869     0.09255     131   (124,)\n",
      "0.98828     0.09251     131   (124, 136)\n",
      "0.96390     0.08252     139   (159,)\n",
      "0.95563     0.08181     139   (131,)\n",
      "0.95479     0.08174     139   (136,)\n",
      "0.95366     0.08164     139   (131, 136)\n",
      "0.95335     0.08161     139   (124,)\n",
      "0.95320     0.08160     139   (124, 131)\n",
      "0.95305     0.08159     139   (124, 136)\n",
      "0.95297     0.08158     139   (124, 131, 136)\n",
      "0.95168     0.08147     139   (131, 159)\n",
      "0.95146     0.08145     139   (136, 159)\n",
      "0.95115     0.08142     139   (131, 136, 159)\n",
      "0.95108     0.08142     139   (124, 159)\n",
      "0.95100     0.08141     139   (124, 131, 159)\n",
      "0.95085     0.08140     139   (124, 136, 159)\n",
      "0.95077     0.08139     139   (124, 131, 136, 159)\n",
      "0.92860     0.08605     124   (159,)\n",
      "0.92832     0.08603     124   (131, 159)\n",
      "0.92825     0.08602     124   (136, 159)\n",
      "0.92811     0.08601     124   (131, 136, 159)\n",
      "0.92226     0.08620     136   (159,)\n",
      "0.92053     0.08604     136   (131, 159)\n",
      "0.92037     0.08615     131   (159,)\n",
      "0.92032     0.08602     136   (124, 159)\n",
      "0.92018     0.08601     136   (124, 131, 159)\n",
      "0.91919     0.08604     131   (136, 159)\n",
      "0.91905     0.08603     131   (124, 159)\n",
      "0.91884     0.08601     131   (124, 136, 159)\n"
     ]
    }
   ],
   "source": [
    "viol_tobe_explained=set()\n",
    "rules_ptd = [rule for rule in rules if rule.confidence>=0.9]\n",
    "rules_ptd.sort(key = lambda rule:rule.confidence,reverse=True)\n",
    "print(f'total {len(rules_ptd)} rules to be shown:')\n",
    "print(f'{\"Confidence\":<12}{\"Set Sup.\":<12}Head  Tail')\n",
    "for rule in rules_ptd:\n",
    "        viol_tobe_explained.update(rule.items)\n",
    "        print(f'{rule.confidence:<12.5f}{rule.support/bld_count:<12.5f}{rule.head:<6}{rule.to}')"
   ]
  },
  {
   "cell_type": "code",
   "execution_count": 11,
   "id": "956146e3",
   "metadata": {},
   "outputs": [
    {
     "name": "stdout",
     "output_type": "stream",
     "text": [
      "每个违规项目ID的代码和解释：\n",
      "ID    代码          解释\n",
      "131   CN193019    REPAIR/WRECK DANGER RESID PREM\n",
      "136   CN193000    MAINTAN BLDG IN SAFE CONDITION\n",
      "139   CN196039    POST OWNER INFO ON ABDN BLDG\n",
      "124   CN193029    WATCHMAN\n",
      "159   CN193110    VACANT BUILDING - REGISTER\n"
     ]
    }
   ],
   "source": [
    "print('每个违规项目ID的代码和解释：')\n",
    "print(f\"{'ID':<6}{'代码':<12}解释\")\n",
    "for viol in viol_tobe_explained:\n",
    "        print(f'{viol:<6}{viol2code[viol]:<12}{viol2desp[viol]}')"
   ]
  },
  {
   "cell_type": "markdown",
   "id": "dd607915",
   "metadata": {},
   "source": [
    "我们得以从中知晓一些信息，如CN193029（WATCHMAN）、CN193000（MAINTAN BLDG IN SAFE CONDITION）和CN193019（REPAIR/WRECK DANGER RESID PREM）几乎总是同时出现，而且这些房屋还是有一定占比的（约为8%-9%）。接下来，我们对这些关联规则进行评价。\n",
    "\n",
    "## 4 关联规则的评价\n",
    "\n",
    "### 4.1 Lift评价指标\n",
    "\n",
    "之前定义的Rule数据结构中包含的信息足以支撑我们计算每一个关联规则头到尾的Lift。我们进行计算，并且给出分布情况。"
   ]
  },
  {
   "cell_type": "code",
   "execution_count": 12,
   "id": "a27f1868",
   "metadata": {},
   "outputs": [
    {
     "data": {
      "image/png": "[encoded data removed]",
      "text/plain": [
       "<Figure size 432x288 with 1 Axes>"
      ]
     },
     "metadata": {
      "needs_background": "light"
     },
     "output_type": "display_data"
    }
   ],
   "source": [
    "lifts=[]\n",
    "for rule in rules:\n",
    "    head_sup = rule.head_support/bld_count\n",
    "    total_sup = rule.support/bld_count\n",
    "    tail_sup = sup[rule.to]/bld_count\n",
    "    rule.lift = total_sup/(head_sup*tail_sup)\n",
    "    lifts.append(total_sup/(head_sup*tail_sup))\n",
    "plot_qchart(lifts,'Q-chart on rule lifts')"
   ]
  },
  {
   "cell_type": "markdown",
   "id": "1954ff17",
   "metadata": {},
   "source": [
    "一些规则的lift还是非常高的。接下来我们来看规则的置信度到lift的Q-Q图："
   ]
  },
  {
   "cell_type": "code",
   "execution_count": 13,
   "id": "79414a9d",
   "metadata": {},
   "outputs": [
    {
     "data": {
      "image/png": "[encoded data removed]",
      "text/plain": [
       "<Figure size 432x288 with 1 Axes>"
      ]
     },
     "metadata": {
      "needs_background": "light"
     },
     "output_type": "display_data"
    }
   ],
   "source": [
    "def plot_qq_chart(x,y,xlabel,ylabel,title):\n",
    "    plt.figure()\n",
    "    plt.title(title)\n",
    "    plt.xlabel(xlabel)\n",
    "    plt.ylabel(ylabel)\n",
    "    decorated = sorted(zip(x,y),key=lambda t:t[0])\n",
    "    plt.plot([d[0]for d in decorated],[d[1] for d in decorated],'.')\n",
    "    plt.show()\n",
    "\n",
    "plot_qq_chart(confidences,lifts,\"Confidence\",'Lift','Q-Q chart on Confidence-Lift')\n"
   ]
  },
  {
   "cell_type": "markdown",
   "id": "41d50505",
   "metadata": {},
   "source": [
    "lift和置信度一定程度上是成正相关的，但相比置信度，lift明显分成了三档，一档位于2左右，一档位于6左右，一档位于10左右。\n",
    "\n",
    "### 4.2 AllConf评价指标\n",
    "\n",
    "TBD"
   ]
  }
 ],
 "metadata": {
  "kernelspec": {
   "display_name": "Python 3 (ipykernel)",
   "language": "python",
   "name": "python3"
  },
  "language_info": {
   "codemirror_mode": {
    "name": "ipython",
    "version": 3
   },
   "file_extension": ".py",
   "mimetype": "text/x-python",
   "name": "python",
   "nbconvert_exporter": "python",
   "pygments_lexer": "ipython3",
   "version": "3.9.0"
  }
 },
 "nbformat": 4,
 "nbformat_minor": 5
}
