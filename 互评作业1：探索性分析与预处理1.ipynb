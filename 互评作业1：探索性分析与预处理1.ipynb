{
 "cells": [
  {
   "cell_type": "markdown",
   "id": "dd7d1169",
   "metadata": {},
   "source": [
    "# 互评作业1：探索性分析与预处理（1/2）\n",
    "\n",
    "运行此notebook需要matplotlib库。\n",
    "\n",
    "本次互评作业使用的两个数据集是：1) Wine Reviews；2）Oakland Crime Statistics 2011-2016。下面展示对于第一个数据集Wine Reviews的预处理过程，第二个数据集Oakland Crime Statistics 2011-2016的预处理在另一个文件之中。\n",
    "\n",
    "## 数据集1：Wine Reviews\n",
    "\n",
    "[Wine Rewiew](https://www.kaggle.com/zynicide/wine-reviews)，顾名思义是一个关于葡萄酒评价的数据集，包含酒的原产国、描述、评分、价格、产地等等信息。该数据集包含两个csv文件和一个json文件："
   ]
  },
  {
   "cell_type": "code",
   "execution_count": 1,
   "id": "cadf1c5f",
   "metadata": {},
   "outputs": [],
   "source": [
    "import csv\n",
    "import json\n",
    "import matplotlib.pyplot as plt\n",
    "\n",
    "fcsv_130kv2 = open('Wine Reviews/winemag-data-130k-v2.csv')\n",
    "fcsv_150k = open('Wine Reviews/winemag-data_first150k.csv')\n",
    "csv130v2 = csv.reader(fcsv_130kv2)\n",
    "csv150 = csv.reader(fcsv_150k)\n",
    "\n",
    "fjson_130kv2 = open('Wine Reviews/winemag-data-130k-v2.json')\n",
    "json130v2 = json.load(fjson_130kv2)"
   ]
  },
  {
   "cell_type": "markdown",
   "id": "44c89410",
   "metadata": {},
   "source": [
    "让我们看看两个CSV文件都有哪些列："
   ]
  },
  {
   "cell_type": "code",
   "execution_count": 2,
   "id": "2d2d88b6",
   "metadata": {
    "scrolled": true
   },
   "outputs": [
    {
     "name": "stdout",
     "output_type": "stream",
     "text": [
      "['', 'country', 'description', 'designation', 'points', 'price', 'province', 'region_1', 'region_2', 'taster_name', 'taster_twitter_handle', 'title', 'variety', 'winery']\n",
      "['', 'country', 'description', 'designation', 'points', 'price', 'province', 'region_1', 'region_2', 'variety', 'winery']\n"
     ]
    }
   ],
   "source": [
    "columns_130 = next(csv130v2)\n",
    "print(columns_130)\n",
    "columns_150 = next(csv150)\n",
    "print(columns_150)"
   ]
  },
  {
   "cell_type": "markdown",
   "id": "56778c43",
   "metadata": {},
   "source": [
    "可以说这两个数据集的各个列基本相同，但是130k的数据集额外多出关于品酒师的信息：名称，推特handle以及品酒报告的标题。由于第二版（130k）的数据新增了更多的信息，所以我们接下来的分析使用第二版数据。实际上，json文件和csv文件保存的是同样的数据。\n",
    "\n",
    "我们进行一个简单的验证。首先验一下总数是否相等，其次依次查看每条数据的评分。"
   ]
  },
  {
   "cell_type": "code",
   "execution_count": 3,
   "id": "7d160d37",
   "metadata": {
    "scrolled": true
   },
   "outputs": [
    {
     "name": "stdout",
     "output_type": "stream",
     "text": [
      "csv数据集中有129971条数据\n",
      "json数据集中有129971条数据\n",
      "不匹配次数:0\n"
     ]
    }
   ],
   "source": [
    "rows_130 = [row for row in csv130v2]\n",
    "print(f'csv数据集中有{len(rows_130)}条数据')\n",
    "print(f'json数据集中有{len(json130v2)}条数据')\n",
    "\n",
    "data_count = len(rows_130)\n",
    "mismatch_count = 0 # 记录评分不匹配的次数\n",
    "for i in range(data_count):\n",
    "    if json130v2[i]['points'] != rows_130[i][4]: #第5列（[4]）为points\n",
    "        mismatch_count += 1\n",
    "print(f'不匹配次数:{mismatch_count}')"
   ]
  },
  {
   "cell_type": "markdown",
   "id": "b89c7a20",
   "metadata": {},
   "source": [
    "这基本上证明了这一点。因此，在接下来的分析中将会同时使用这两个文件，但是表达的数据是同一份。\n",
    "\n",
    "## 初步分析：数据摘要与可视化\n",
    "\n",
    "### 数值部分\n",
    "\n",
    "我们先对数值型数据进行分析。我们定义求五数概括和缺失值个数的方法："
   ]
  },
  {
   "cell_type": "code",
   "execution_count": 4,
   "id": "23ac97c6",
   "metadata": {},
   "outputs": [],
   "source": [
    "def fivenum_summary(vals):\n",
    "    '''输入一组数据，依次返回这组数据的最小值、下四分位点、中位数、上四分位点、最大值，即从小到大排序的五个概括数。\n",
    "    返回的数据都是取自输入的数据，不会进行数学运算。'''\n",
    "    srted = sorted(vals)\n",
    "    count = len(vals)\n",
    "    vmax = srted[-1]\n",
    "    vmin = srted[0]\n",
    "    vmid = srted[count // 2]\n",
    "    vquadlow = srted[count // 4]\n",
    "    vquadhigh = srted[count*3 // 4]\n",
    "    return (vmin, vquadlow, vmid, vquadhigh, vmax)\n",
    "\n",
    "def missing_count(data, columnNo):\n",
    "    cnt = 0\n",
    "    for d in data:\n",
    "        if d[columnNo] == '':\n",
    "            cnt += 1\n",
    "    return cnt"
   ]
  },
  {
   "cell_type": "markdown",
   "id": "09d3ec6c",
   "metadata": {},
   "source": [
    "除了第0列（编号）之外，数值型的数据总共有points（\\[4\\]）和price（\\[5\\]）这两列。我们先看points这一列。\n",
    "\n",
    "求points列有多少缺失数据："
   ]
  },
  {
   "cell_type": "code",
   "execution_count": 5,
   "id": "971f2dcf",
   "metadata": {},
   "outputs": [
    {
     "data": {
      "text/plain": [
       "0"
      ]
     },
     "execution_count": 5,
     "metadata": {},
     "output_type": "execute_result"
    }
   ],
   "source": [
    "missing_count(rows_130,4)"
   ]
  },
  {
   "cell_type": "markdown",
   "id": "f36d3197",
   "metadata": {},
   "source": [
    "幸运的是这一列没有任何缺失的数据。接下来求points列的五数概括："
   ]
  },
  {
   "cell_type": "code",
   "execution_count": 6,
   "id": "76ba20d5",
   "metadata": {},
   "outputs": [
    {
     "data": {
      "text/plain": [
       "(80, 86, 88, 91, 100)"
      ]
     },
     "execution_count": 6,
     "metadata": {},
     "output_type": "execute_result"
    }
   ],
   "source": [
    "points = [int(data[4]) for data in rows_130]\n",
    "fivenum_summary(points)"
   ]
  },
  {
   "cell_type": "markdown",
   "id": "7a2d23f3",
   "metadata": {},
   "source": [
    "并且给出这一列的盒图："
   ]
  },
  {
   "cell_type": "code",
   "execution_count": 7,
   "id": "9509289e",
   "metadata": {},
   "outputs": [
    {
     "data": {
      "image/png": "[encoded data removed]",
      "text/plain": [
       "<Figure size 432x288 with 1 Axes>"
      ]
     },
     "metadata": {
      "needs_background": "light"
     },
     "output_type": "display_data"
    }
   ],
   "source": [
    "plt.figure()\n",
    "plt.title('boxplot of column \"Points\"')\n",
    "plt.boxplot(points)\n",
    "plt.show()"
   ]
  },
  {
   "cell_type": "markdown",
   "id": "73561454",
   "metadata": {},
   "source": [
    "我们进行五数概括所得的结果与盒图的结果不完全相同，这是因为盒图剔除了一些离群点。\n",
    "\n",
    "之后，我们处理price这一列。  \n",
    "先看这一列有多少缺失的数值："
   ]
  },
  {
   "cell_type": "code",
   "execution_count": 8,
   "id": "f7cdbf8d",
   "metadata": {},
   "outputs": [
    {
     "data": {
      "text/plain": [
       "52"
      ]
     },
     "execution_count": 8,
     "metadata": {},
     "output_type": "execute_result"
    }
   ],
   "source": [
    "fivenum = fivenum_summary(points)\n",
    "iqr = fivenum[3]-fivenum[1]\n",
    "q1 = fivenum[1]\n",
    "q3 = fivenum[3]\n",
    "iqr = q3-q1\n",
    "outliers = [i for i in points if ((i<q1-1.5*iqr) or (i>q3+1.5*iqr))]\n",
    "len(outliers)"
   ]
  },
  {
   "cell_type": "markdown",
   "id": "701ad512",
   "metadata": {},
   "source": [
    "这52个离群点，其评分要么是98要么是100，显示在图上只有两个点。\n",
    "\n",
    "现在我们处理price这一列。  \n",
    "先看这一列有多少缺失的数值："
   ]
  },
  {
   "cell_type": "code",
   "execution_count": 9,
   "id": "4e42da71",
   "metadata": {},
   "outputs": [
    {
     "data": {
      "text/plain": [
       "(8996, 0.06921544036746659)"
      ]
     },
     "execution_count": 9,
     "metadata": {},
     "output_type": "execute_result"
    }
   ],
   "source": [
    "missing_cnt = missing_count(rows_130,5)\n",
    "(missing_cnt,missing_cnt/data_count)"
   ]
  },
  {
   "cell_type": "markdown",
   "id": "7addb3c9",
   "metadata": {},
   "source": [
    "8996个数据是缺失的，占总体的6.9%。\n",
    "\n",
    "之后，我们给出五数概括和盒图："
   ]
  },
  {
   "cell_type": "code",
   "execution_count": 10,
   "id": "54c28d67",
   "metadata": {},
   "outputs": [
    {
     "data": {
      "text/plain": [
       "(4.0, 17.0, 25.0, 42.0, 3300.0)"
      ]
     },
     "execution_count": 10,
     "metadata": {},
     "output_type": "execute_result"
    }
   ],
   "source": [
    "prices = [float(data[5]) for data in rows_130 if data[5]!='']\n",
    "fivenum_summary(prices)"
   ]
  },
  {
   "cell_type": "code",
   "execution_count": 11,
   "id": "fbfe0c8b",
   "metadata": {},
   "outputs": [
    {
     "data": {
      "image/png": "[encoded data removed]",
      "text/plain": [
       "<Figure size 432x288 with 1 Axes>"
      ]
     },
     "metadata": {
      "needs_background": "light"
     },
     "output_type": "display_data"
    }
   ],
   "source": [
    "plt.figure()\n",
    "plt.title('boxplot of column \"Prices\"')\n",
    "plt.boxplot(prices)\n",
    "plt.show()"
   ]
  },
  {
   "cell_type": "markdown",
   "id": "6125e491",
   "metadata": {},
   "source": [
    "看上去有很多离群点，所以统计离群点的数目："
   ]
  },
  {
   "cell_type": "code",
   "execution_count": 12,
   "id": "5ef74896",
   "metadata": {},
   "outputs": [
    {
     "data": {
      "text/plain": [
       "7241"
      ]
     },
     "execution_count": 12,
     "metadata": {},
     "output_type": "execute_result"
    }
   ],
   "source": [
    "fivenum = fivenum_summary(prices)\n",
    "iqr = fivenum[3]-fivenum[1]\n",
    "q1 = fivenum[1]\n",
    "q3 = fivenum[3]\n",
    "iqr = q3-q1\n",
    "outliers = [i for i in prices if ((i<q1-1.5*iqr) or (i>q3+1.5*iqr))]\n",
    "len(outliers)"
   ]
  },
  {
   "cell_type": "markdown",
   "id": "7a40b3db",
   "metadata": {},
   "source": [
    "7000+离群点看上去很多，但考虑到数据的数目（13万）以及离群点离整体的距离（大多数酒品的价格都在100元以下，但这些离群点的价格往往成百上千），这个值并非十分不正常。\n",
    "\n",
    "价格数据的离群点情况也反映了一个现象，就是价格贵的红酒售价可以远远高于一般红酒，即使其评分并没有如此显著的差异（注意到评分的离群点仅有52个）。\n",
    "\n",
    "数值部分的最后，我们绘制points到price的Q-Q图。绘制过程中剔除了上述离群点。从图中可以看出，points和price之间存在着较弱的正相关性。"
   ]
  },
  {
   "cell_type": "code",
   "execution_count": 13,
   "id": "0f2bce24",
   "metadata": {},
   "outputs": [
    {
     "data": {
      "image/png": "[encoded data removed]",
      "text/plain": [
       "<Figure size 432x288 with 1 Axes>"
      ]
     },
     "metadata": {
      "needs_background": "light"
     },
     "output_type": "display_data"
    }
   ],
   "source": [
    "q_point=[]\n",
    "q_price=[]\n",
    "for data in rows_130:\n",
    "    if data[5]=='':continue\n",
    "    if float(data[5]) in outliers: continue\n",
    "    if int(data[4]) >= 98: continue\n",
    "    q_point.append(int(data[4]))\n",
    "    q_price.append(float(data[5]))\n",
    "plt.figure()\n",
    "plt.xlabel('Point')\n",
    "plt.ylabel('Price')\n",
    "plt.plot(q_point,q_price,'.')\n",
    "plt.show()"
   ]
  },
  {
   "cell_type": "markdown",
   "id": "3b8cbc5d",
   "metadata": {},
   "source": [
    "### 标称部分\n",
    "\n",
    "相应列中，country，province，和variety是标称属性。后续需要绘制条形图，这里先对相关方法进行定义，供后续调用。"
   ]
  },
  {
   "cell_type": "code",
   "execution_count": 14,
   "id": "374ab122",
   "metadata": {},
   "outputs": [],
   "source": [
    "from collections import defaultdict # 用于统计数目\n",
    "\n",
    "def count_occurence(data,column,ignore_empty=True):\n",
    "    count = defaultdict(int)\n",
    "    for row in data:\n",
    "        if ignore_empty and row[column]=='':\n",
    "            continue\n",
    "        count[row[column]]+=1\n",
    "    return count\n",
    "\n",
    "def cutoff(datadict,ratio,total_amt=data_count,return_ratio=True):\n",
    "    ret = {}\n",
    "    for key in datadict:\n",
    "        val = datadict[key]\n",
    "        percent = val/total_amt\n",
    "        if percent>=ratio:\n",
    "            ret[key]=percent*100 if return_ratio else val\n",
    "    return ret\n",
    "\n",
    "def plot_barchart(title,Xlabel,Ylabel,data,do_sort=False,bar_width=0.4):\n",
    "    plt.figure(title)\n",
    "    plt.title(title)\n",
    "    plt.xlabel(Xlabel)\n",
    "    plt.ylabel(Ylabel)\n",
    "    count = len(data) # 有几个bars要画\n",
    "    keys = list(data.keys())\n",
    "    if do_sort:\n",
    "        keys.sort(key=lambda k:data[k],reverse=True)\n",
    "    for i,name in enumerate(keys):\n",
    "        plt.bar(\n",
    "            i,# 横向位置\n",
    "            data[name], #数据\n",
    "            width = bar_width, # 宽度\n",
    "            # 边缘\n",
    "            ec='k',lw=1\n",
    "        )\n",
    "    plt.xticks([i for i in range(count)],list(keys))\n",
    "    plt.show()"
   ]
  },
  {
   "cell_type": "markdown",
   "id": "fa009ddc",
   "metadata": {},
   "source": [
    "我们先处理country。看一下它的缺失值数量："
   ]
  },
  {
   "cell_type": "code",
   "execution_count": 15,
   "id": "f67f10a4",
   "metadata": {},
   "outputs": [
    {
     "data": {
      "text/plain": [
       "(63, 0.0004847235152457087)"
      ]
     },
     "execution_count": 15,
     "metadata": {},
     "output_type": "execute_result"
    }
   ],
   "source": [
    "missing_cnt = missing_count(rows_130,1)\n",
    "missing_cnt, missing_cnt/data_count"
   ]
  },
  {
   "cell_type": "markdown",
   "id": "ebeeab5d",
   "metadata": {},
   "source": [
    "有63条数据缺失，占总数据的万分之4.8。\n",
    "\n",
    "之后我们绘制数据的条形图，如下所示。由于国家数目太多，我们只选取占2%以上的国家画图。横轴为原产国，纵轴为在所有数据中的占比。"
   ]
  },
  {
   "cell_type": "code",
   "execution_count": 16,
   "id": "cea4cc38",
   "metadata": {},
   "outputs": [
    {
     "data": {
      "image/png": "[encoded data removed]",
      "text/plain": [
       "<Figure size 432x288 with 1 Axes>"
      ]
     },
     "metadata": {
      "needs_background": "light"
     },
     "output_type": "display_data"
    }
   ],
   "source": [
    "# Remove掉占比小于2%的国家\n",
    "country_displayed=cutoff(count_occurence(rows_130,1),.02)\n",
    "plot_barchart('barchart of column \"Country\"(>=2%)','Country',\"%\",country_displayed,True)"
   ]
  },
  {
   "cell_type": "markdown",
   "id": "d8196a59",
   "metadata": {},
   "source": [
    "处理province和variety属性的部分也是类似。\n",
    "\n",
    "province属性的缺失值个数和占比："
   ]
  },
  {
   "cell_type": "code",
   "execution_count": 17,
   "id": "b2990f22",
   "metadata": {},
   "outputs": [
    {
     "data": {
      "text/plain": [
       "(63, 0.0004847235152457087)"
      ]
     },
     "execution_count": 17,
     "metadata": {},
     "output_type": "execute_result"
    }
   ],
   "source": [
    "missing_cnt = missing_count(rows_130,6)\n",
    "missing_cnt,missing_cnt/data_count"
   ]
  },
  {
   "cell_type": "markdown",
   "id": "8bf6a15e",
   "metadata": {},
   "source": [
    "缺失的数据条目数量与country的相同，可能是因为这两列数据的缺失是同时发生的。该属性的条形图如下。分别制作了一张仅截取占比大于3%的条形图和大于0.5%的条形图。后者由于条目数量过多，横轴标签会挤在一起。"
   ]
  },
  {
   "cell_type": "code",
   "execution_count": 18,
   "id": "2260d4e1",
   "metadata": {},
   "outputs": [
    {
     "data": {
      "image/png": "[encoded data removed]",
      "text/plain": [
       "<Figure size 432x288 with 1 Axes>"
      ]
     },
     "metadata": {
      "needs_background": "light"
     },
     "output_type": "display_data"
    },
    {
     "data": {
      "image/png": "[encoded data removed]",
      "text/plain": [
       "<Figure size 432x288 with 1 Axes>"
      ]
     },
     "metadata": {
      "needs_background": "light"
     },
     "output_type": "display_data"
    }
   ],
   "source": [
    "province_all = count_occurence(rows_130,6)\n",
    "province_disp = cutoff(province_all,.03)\n",
    "province_more = cutoff(province_all,.005)\n",
    "plot_barchart('barchart of column \"Province\"(>=3%)','Province',\"%\",province_disp,True)\n",
    "plot_barchart('barchart of column \"Province\"(>=0.5%)','Province',\"%\",province_more,True,bar_width=0.7)"
   ]
  },
  {
   "cell_type": "markdown",
   "id": "6504086a",
   "metadata": {},
   "source": [
    "现在讨论variety属性。\n",
    "\n",
    "variety属性的缺失值个数和占比："
   ]
  },
  {
   "cell_type": "code",
   "execution_count": 19,
   "id": "40286423",
   "metadata": {},
   "outputs": [
    {
     "data": {
      "text/plain": [
       "(1, 7.694024051519185e-06)"
      ]
     },
     "execution_count": 19,
     "metadata": {},
     "output_type": "execute_result"
    }
   ],
   "source": [
    "missing_cnt = missing_count(rows_130,12)\n",
    "missing_cnt,missing_cnt/data_count"
   ]
  },
  {
   "cell_type": "markdown",
   "id": "c23af1d7",
   "metadata": {},
   "source": [
    "存在唯一一个缺失值。该属性的条形图如下图所示："
   ]
  },
  {
   "cell_type": "code",
   "execution_count": 20,
   "id": "c98d5fa1",
   "metadata": {},
   "outputs": [
    {
     "name": "stdout",
     "output_type": "stream",
     "text": [
      "存在706种不同的variety\n"
     ]
    },
    {
     "data": {
      "image/png": "[encoded data removed]",
      "text/plain": [
       "<Figure size 432x288 with 1 Axes>"
      ]
     },
     "metadata": {
      "needs_background": "light"
     },
     "output_type": "display_data"
    }
   ],
   "source": [
    "variety_count=count_occurence(rows_130,12)\n",
    "print(f'存在{len(variety_count)-1}种不同的variety')\n",
    "variety_disp=cutoff(variety_count,.03)\n",
    "plot_barchart('barchart of column \"Variety\"(>=3%)','Variety',\"%\",variety_disp,True)"
   ]
  },
  {
   "cell_type": "markdown",
   "id": "86f1e13f",
   "metadata": {},
   "source": [
    "由于variety的名称过长，我们用列表的方法将上述条形图重新展示一遍："
   ]
  },
  {
   "cell_type": "code",
   "execution_count": 21,
   "id": "3383310a",
   "metadata": {},
   "outputs": [
    {
     "name": "stdout",
     "output_type": "stream",
     "text": [
      "%\tVariety\n",
      "10.21\tPinot Noir\n",
      "9.04\tChardonnay\n",
      "7.29\tCabernet Sauvignon\n",
      "6.88\tRed Blend\n",
      "5.32\tBordeaux-style Red Blend\n",
      "3.99\tRiesling\n",
      "3.82\tSauvignon Blanc\n",
      "3.19\tSyrah\n"
     ]
    }
   ],
   "source": [
    "print('%\\tVariety')\n",
    "keys = list(variety_disp.keys())\n",
    "keys.sort(key=lambda k:variety_disp[k],reverse=True)\n",
    "for v in keys:\n",
    "    print(f'{variety_disp[v]:.2f}\\t{v}')"
   ]
  },
  {
   "cell_type": "markdown",
   "id": "eee86788",
   "metadata": {},
   "source": [
    "### 特殊属性：品酒师姓名taster_name\n",
    "\n",
    "虽然品酒师似乎不应当作为一个有固定取值范围的标称型属性出现，但实际上数据集中给出姓名的品酒师数量并不是很多。因此，在此将其暂时当做标称属性处理，展示其取值范围和命中次数。从输出中可以发现，数据集中一共出现了19名给出姓名的品酒师，其中包含了15个（不是16个，因为品酒师Jeff Jenson和Mine DeDimone公用一个推特账号@worldwineguys）不相同的推特账号。"
   ]
  },
  {
   "cell_type": "code",
   "execution_count": 22,
   "id": "8a3cc6a8",
   "metadata": {},
   "outputs": [
    {
     "data": {
      "text/plain": [
       "{('', ''),\n",
       " ('Alexander Peartree', ''),\n",
       " ('Anna Lee C. Iijima', ''),\n",
       " ('Anne Krebiehl\\xa0MW', '@AnneInVino'),\n",
       " ('Carrie Dykes', ''),\n",
       " ('Christina Pickard', '@winewchristina'),\n",
       " ('Fiona Adams', '@bkfiona'),\n",
       " ('Jeff Jenssen', '@worldwineguys'),\n",
       " ('Jim Gordon', '@gordone_cellars'),\n",
       " ('Joe Czerwinski', '@JoeCz'),\n",
       " ('Kerin O’Keefe', '@kerinokeefe'),\n",
       " ('Lauren Buzzeo', '@laurbuzz'),\n",
       " ('Matt Kettmann', '@mattkettmann'),\n",
       " ('Michael Schachner', '@wineschach'),\n",
       " ('Mike DeSimone', '@worldwineguys'),\n",
       " ('Paul Gregutt', '@paulgwine\\xa0'),\n",
       " ('Roger Voss', '@vossroger'),\n",
       " ('Sean P. Sullivan', '@wawinereport'),\n",
       " ('Susan Kostrzewa', '@suskostrzewa'),\n",
       " ('Virginie Boone', '@vboone')}"
      ]
     },
     "execution_count": 22,
     "metadata": {},
     "output_type": "execute_result"
    }
   ],
   "source": [
    "tasters = set()\n",
    "for data in rows_130:\n",
    "    tasters.add((data[9],data[10]))\n",
    "tasters"
   ]
  },
  {
   "cell_type": "markdown",
   "id": "949511f7",
   "metadata": {},
   "source": [
    "## 数据缺失处理\n",
    "\n",
    "经过之前的分析，我们可以对数据缺失值的情况进行一个整理：\n",
    "\n",
    "|列号|键名|类别|缺失值数量|占比|\n",
    "|:-:|:--:|:-:|:-------:|:-:|\n",
    "|1|country|标称型|63|0.04%|\n",
    "|4|points|数值型|0|0.00%|\n",
    "|5|price|数值型|8996|6.92%|\n",
    "|6|province|标称型|63|0.04%|\n",
    "|12|variety|标称型|1|0.00%|\n",
    "\n",
    "我们先讨论数值型数据的损失处理问题。points数据是很完整的，不需要补全，因此此处考虑对price的数据补全。\n",
    "\n",
    "最简单地，直接丢弃掉残缺的数据。丢弃后，我们重新看一下各个数据的盒图和条形图。我们发现，丢弃掉这些数据后，variety中出现最多的那个，频率变少了；占比大于3%的省份数量也变少了。说明被丢弃的数据主要来自这里。"
   ]
  },
  {
   "cell_type": "code",
   "execution_count": 23,
   "id": "7c4546e4",
   "metadata": {},
   "outputs": [
    {
     "data": {
      "image/png": "[encoded data removed]",
      "text/plain": [
       "<Figure size 432x288 with 1 Axes>"
      ]
     },
     "metadata": {
      "needs_background": "light"
     },
     "output_type": "display_data"
    },
    {
     "data": {
      "image/png": "[encoded data removed]",
      "text/plain": [
       "<Figure size 432x288 with 1 Axes>"
      ]
     },
     "metadata": {
      "needs_background": "light"
     },
     "output_type": "display_data"
    },
    {
     "data": {
      "image/png": "[encoded data removed]",
      "text/plain": [
       "<Figure size 432x288 with 1 Axes>"
      ]
     },
     "metadata": {
      "needs_background": "light"
     },
     "output_type": "display_data"
    },
    {
     "data": {
      "image/png": "[encoded data removed]",
      "text/plain": [
       "<Figure size 432x288 with 1 Axes>"
      ]
     },
     "metadata": {
      "needs_background": "light"
     },
     "output_type": "display_data"
    },
    {
     "data": {
      "image/png": "[encoded data removed]",
      "text/plain": [
       "<Figure size 432x288 with 1 Axes>"
      ]
     },
     "metadata": {
      "needs_background": "light"
     },
     "output_type": "display_data"
    },
    {
     "name": "stdout",
     "output_type": "stream",
     "text": [
      "%\tVariety\n",
      "9.84\tPinot Noir\n",
      "8.52\tChardonnay\n",
      "7.22\tCabernet Sauvignon\n",
      "6.52\tRed Blend\n",
      "4.11\tBordeaux-style Red Blend\n",
      "3.83\tRiesling\n",
      "3.68\tSauvignon Blanc\n",
      "3.14\tSyrah\n"
     ]
    }
   ],
   "source": [
    "dropped = [data for data in rows_130 if data[5]!='']\n",
    "plt.figure()\n",
    "plt.title('boxplot of column \"Points\"')\n",
    "plt.boxplot([int(data[4]) for data in dropped])\n",
    "plt.show()\n",
    "\n",
    "country_displayed=cutoff(count_occurence(dropped,1),.02)\n",
    "plot_barchart('barchart of column \"Country\"(>=2%)','Country',\"%\",country_displayed,True)\n",
    "\n",
    "province_all = count_occurence(dropped,6)\n",
    "province_disp = cutoff(province_all,.03)\n",
    "province_more = cutoff(province_all,.005)\n",
    "plot_barchart('barchart of column \"Province\"(>=3%)','Province',\"%\",province_disp,True)\n",
    "plot_barchart('barchart of column \"Province\"(>=0.5%)','Province',\"%\",province_more,True,bar_width=0.7)\n",
    "\n",
    "variety_disp=cutoff(count_occurence(dropped,12),.03)\n",
    "plot_barchart('barchart of column \"Variety\"(>=3%)','Variety',\"%\",variety_disp,True)\n",
    "print('%\\tVariety')\n",
    "keys = list(variety_disp.keys())\n",
    "keys.sort(key=lambda k:variety_disp[k],reverse=True)\n",
    "for v in keys:\n",
    "    print(f'{variety_disp[v]:.2f}\\t{v}')"
   ]
  },
  {
   "cell_type": "markdown",
   "id": "525ce92c",
   "metadata": {},
   "source": [
    "第二种处理方式是使用一个高频值来做默认替代。对于数值型变量来说，考虑选用去除离群值后的数据均值来做默认替代。进行补全后，我们重新绘制price的盒图，并计算其（不排除离群点的）五数概括。"
   ]
  },
  {
   "cell_type": "code",
   "execution_count": 24,
   "id": "e96911d5",
   "metadata": {},
   "outputs": [
    {
     "name": "stdout",
     "output_type": "stream",
     "text": [
      "(4.0, 18.0, 28.0, 40.0, 3300.0)\n"
     ]
    },
    {
     "data": {
      "image/png": "[encoded data removed]",
      "text/plain": [
       "<Figure size 432x288 with 1 Axes>"
      ]
     },
     "metadata": {
      "needs_background": "light"
     },
     "output_type": "display_data"
    }
   ],
   "source": [
    "prices = [float(data[5]) for data in rows_130 if data[5]!='']\n",
    "price_avg = sum(prices)/len(prices)\n",
    "fixed_filled_price = [(float(data[5]) if data[5]!='' else price_avg) for data in rows_130]\n",
    "print(fivenum_summary(fixed_filled_price))\n",
    "plt.figure()\n",
    "plt.title('boxplot of column \"Price\"')\n",
    "plt.boxplot(fixed_filled_price)\n",
    "plt.show()"
   ]
  },
  {
   "cell_type": "markdown",
   "id": "1c551150",
   "metadata": {},
   "source": [
    "我们也可以考虑利用数据间的关系来补全数据。之前的分析显示了points到price间有着一定的正相关性。因此我们简单地构建一个线性方程用于数据补全，当points为80时price为5，当points为97时price为80，如下面的函数所示。进行补全后，我们再来看看效果。"
   ]
  },
  {
   "cell_type": "code",
   "execution_count": 25,
   "id": "135ebf16",
   "metadata": {},
   "outputs": [
    {
     "name": "stdout",
     "output_type": "stream",
     "text": [
      "(4.0, 18.0, 27.058823529411764, 44.705882352941174, 3300.0)\n"
     ]
    },
    {
     "data": {
      "image/png": "[encoded data removed]",
      "text/plain": [
       "<Figure size 432x288 with 1 Axes>"
      ]
     },
     "metadata": {
      "needs_background": "light"
     },
     "output_type": "display_data"
    }
   ],
   "source": [
    "def linear_price(points):\n",
    "    return 5+(80-5)*(points-80)/(97-80)\n",
    "linear_filled_price = [(float(data[5]) if data[5]!='' else linear_price(int(data[4]))) for data in rows_130]\n",
    "print(fivenum_summary(linear_filled_price))\n",
    "plt.figure()\n",
    "plt.title('boxplot of column \"Price\"')\n",
    "plt.boxplot(linear_filled_price)\n",
    "plt.show()"
   ]
  },
  {
   "cell_type": "markdown",
   "id": "7c77d6c5",
   "metadata": {},
   "source": [
    "可以看到中位数和上四分位数已经变为填充值了。\n",
    "\n",
    "之后是标称型数据的缺失。我们先讨论country和province的缺失问题。这两个属性缺失的数量完全一致，考虑是否是同时缺失的呢？"
   ]
  },
  {
   "cell_type": "code",
   "execution_count": 26,
   "id": "8c8979ec",
   "metadata": {},
   "outputs": [
    {
     "data": {
      "text/plain": [
       "True"
      ]
     },
     "execution_count": 26,
     "metadata": {},
     "output_type": "execute_result"
    }
   ],
   "source": [
    "# 等号左边是所有country为空的行的行号，等号右边是province为空的\n",
    "[int(data[0])for data in rows_130 if data[1]==''] == [int(data[0])for data in rows_130 if data[6]=='']"
   ]
  },
  {
   "cell_type": "markdown",
   "id": "221aede2",
   "metadata": {},
   "source": [
    "这说明这二者确实是同时缺失的。同时考虑到省份和国家的从属关系，确定省份就能确定国家，因而考虑将这两个属性合并处理。\n",
    "\n",
    "同样，最简单的方式是丢弃掉这些数据。考虑到这些数据占比很小，不会带来很大的变动。因此我们重点关注被丢弃数据的情况："
   ]
  },
  {
   "cell_type": "code",
   "execution_count": 27,
   "id": "14bc1e95",
   "metadata": {},
   "outputs": [
    {
     "name": "stdout",
     "output_type": "stream",
     "text": [
      "points的五数概括：(82, 87, 89, 90, 92)\n",
      "price的五数概括：(6.0, 19.0, 25.0, 30.0, 50.0)\n"
     ]
    },
    {
     "data": {
      "image/png": "[encoded data removed]",
      "text/plain": [
       "<Figure size 432x288 with 1 Axes>"
      ]
     },
     "metadata": {
      "needs_background": "light"
     },
     "output_type": "display_data"
    },
    {
     "data": {
      "image/png": "[encoded data removed]",
      "text/plain": [
       "<Figure size 432x288 with 1 Axes>"
      ]
     },
     "metadata": {
      "needs_background": "light"
     },
     "output_type": "display_data"
    }
   ],
   "source": [
    "dropped = [data for data in rows_130 if data[1]=='']\n",
    "print(f'points的五数概括：{fivenum_summary([int(data[4]) for data in dropped])}')\n",
    "print(f'price的五数概括：{fivenum_summary([float(data[5]) for data in dropped if data[5]!=\"\"])}')\n",
    "plt.figure()\n",
    "plt.title('boxplot of column \"Points\"')\n",
    "plt.boxplot([int(data[4]) for data in dropped])\n",
    "plt.show()\n",
    "plt.figure()\n",
    "plt.title('boxplot of column \"Price\"')\n",
    "plt.boxplot([float(data[5]) for data in dropped if data[5]!=''])\n",
    "plt.show()"
   ]
  },
  {
   "cell_type": "markdown",
   "id": "bcfe06e2",
   "metadata": {},
   "source": [
    "从数据上看，丢弃的部分与其余部分的分布大致相同，被丢弃的部分没有前面提到过的高价酒。\n",
    "\n",
    "也可以使用最常出现的值来填充："
   ]
  },
  {
   "cell_type": "code",
   "execution_count": 28,
   "id": "3503dc1a",
   "metadata": {},
   "outputs": [
    {
     "data": {
      "image/png": "[encoded data removed]",
      "text/plain": [
       "<Figure size 432x288 with 1 Axes>"
      ]
     },
     "metadata": {
      "needs_background": "light"
     },
     "output_type": "display_data"
    },
    {
     "data": {
      "image/png": "[encoded data removed]",
      "text/plain": [
       "<Figure size 432x288 with 1 Axes>"
      ]
     },
     "metadata": {
      "needs_background": "light"
     },
     "output_type": "display_data"
    },
    {
     "data": {
      "image/png": "[encoded data removed]",
      "text/plain": [
       "<Figure size 432x288 with 1 Axes>"
      ]
     },
     "metadata": {
      "needs_background": "light"
     },
     "output_type": "display_data"
    }
   ],
   "source": [
    "fixed_country = [[data[1] if data[1] != '' else 'US'] for data in rows_130]\n",
    "fixed_province = [[data[6] if data[6]!=''else 'California'] for data in rows_130]\n",
    "\n",
    "country_displayed=cutoff(count_occurence(fixed_country,0),.02)\n",
    "plot_barchart('barchart of column \"Country\"(>=2%), fix-filled','Country',\"%\",country_displayed,True)\n",
    "\n",
    "province_all = count_occurence(fixed_province,0)\n",
    "province_disp = cutoff(province_all,.03)\n",
    "province_more = cutoff(province_all,.005)\n",
    "plot_barchart('barchart of column \"Province\"(>=3%), fix-filled','Province',\"%\",province_disp,True)\n",
    "plot_barchart('barchart of column \"Province\"(>=0.5%), fix-filled','Province',\"%\",province_more,True,bar_width=0.7)"
   ]
  },
  {
   "cell_type": "markdown",
   "id": "4d826edf",
   "metadata": {},
   "source": [
    "最后是关于标称型的属性variety。这个属性只差一个值，认为可以在基本上不影响整体数据的情况下简单丢弃之。我们丢弃掉的数据如下所示。这个数据不仅缺失variety信息，同时还缺失包含designation（酿酒所用葡萄的葡萄园）和region的葡萄产地信息。"
   ]
  },
  {
   "cell_type": "code",
   "execution_count": 29,
   "id": "3d227120",
   "metadata": {},
   "outputs": [
    {
     "data": {
      "text/plain": [
       "['86909',\n",
       " 'Chile',\n",
       " \"A chalky, dusty mouthfeel nicely balances this Petite Syrah's bright, full blackberry and blueberry fruit. Wheat-flour and black-pepper notes add interest to the bouquet; the wine finishes with herb and an acorny nuttiness. A good first Chilean wine for those more comfortable with the Californian style. It's got tannins to lose, but it's very good.\",\n",
       " '',\n",
       " '88',\n",
       " '17.0',\n",
       " 'Maipo Valley',\n",
       " '',\n",
       " '',\n",
       " '',\n",
       " '',\n",
       " 'Carmen 1999  (Maipo Valley)',\n",
       " '',\n",
       " 'Carmen']"
      ]
     },
     "execution_count": 29,
     "metadata": {},
     "output_type": "execute_result"
    }
   ],
   "source": [
    "variety_dropped = [data for data in rows_130 if data[12]=='']\n",
    "assert len(variety_dropped) == 1\n",
    "variety_dropped[0]"
   ]
  }
 ],
 "metadata": {
  "kernelspec": {
   "display_name": "Python 3 (ipykernel)",
   "language": "python",
   "name": "python3"
  },
  "language_info": {
   "codemirror_mode": {
    "name": "ipython",
    "version": 3
   },
   "file_extension": ".py",
   "mimetype": "text/x-python",
   "name": "python",
   "nbconvert_exporter": "python",
   "pygments_lexer": "ipython3",
   "version": "3.9.7"
  }
 },
 "nbformat": 4,
 "nbformat_minor": 5
}
